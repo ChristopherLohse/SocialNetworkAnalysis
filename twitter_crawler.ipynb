{
 "metadata": {
  "language_info": {
   "codemirror_mode": {
    "name": "ipython",
    "version": 3
   },
   "file_extension": ".py",
   "mimetype": "text/x-python",
   "name": "python",
   "nbconvert_exporter": "python",
   "pygments_lexer": "ipython3",
   "version": "3.7.4-final"
  },
  "orig_nbformat": 2,
  "kernelspec": {
   "name": "Python 3.7.4 64-bit ('socialnetworkanalysis-ZaUEx_0a-py3.7')",
   "display_name": "Python 3.7.4 64-bit ('socialnetworkanalysis-ZaUEx_0a-py3.7')",
   "metadata": {
    "interpreter": {
     "hash": "6547190cc32c17ff80ede71172b18ea2026f3647f8ed98c4afeda2715eb0864f"
    }
   }
  }
 },
 "nbformat": 4,
 "nbformat_minor": 2,
 "cells": [
  {
   "cell_type": "code",
   "execution_count": 89,
   "metadata": {},
   "outputs": [],
   "source": [
    "# Import ThingsapikeySecret)\n",
    "import time # time thread-timeout\n",
    "import config # for apikeys\n",
    "import tweepy # for crawling Twitter"
   ]
  },
  {
   "cell_type": "code",
   "execution_count": 92,
   "metadata": {
    "tags": []
   },
   "outputs": [],
   "source": [
    "# Authenticate Tweepy, a Python Library for crawling Twitter via the Twitter API\n",
    "# Get Apikey from here: https://developer.twitter.com/en\n",
    "auth = tweepy.AppAuthHandler(\n",
    "    config.APIKEY,\n",
    "    config.SECRET_APIKEY)\n",
    "api = tweepy.API(auth)"
   ]
  },
  {
   "cell_type": "code",
   "execution_count": 48,
   "metadata": {},
   "outputs": [
    {
     "output_type": "execute_result",
     "data": {
      "text/plain": [
       "3490529422"
      ]
     },
     "metadata": {},
     "execution_count": 48
    }
   ],
   "source": [
    "# Get my ID\n",
    "myName = 'tobiashoelzer'\n",
    "myID = api.get_user(myName).id\n",
    "\n",
    "myID"
   ]
  },
  {
   "cell_type": "code",
   "execution_count": 82,
   "metadata": {},
   "outputs": [
    {
     "output_type": "error",
     "ename": "RateLimitError",
     "evalue": "[{'message': 'Rate limit exceeded', 'code': 88}]",
     "traceback": [
      "\u001b[0;31m---------------------------------------------------------------------------\u001b[0m",
      "\u001b[0;31mRateLimitError\u001b[0m                            Traceback (most recent call last)",
      "\u001b[0;32m<ipython-input-82-3639f54cf2d7>\u001b[0m in \u001b[0;36m<module>\u001b[0;34m\u001b[0m\n\u001b[1;32m      1\u001b[0m \u001b[0;31m# Get my follows (friends)\u001b[0m\u001b[0;34m\u001b[0m\u001b[0;34m\u001b[0m\u001b[0;34m\u001b[0m\u001b[0m\n\u001b[0;32m----> 2\u001b[0;31m \u001b[0mmyFriends\u001b[0m \u001b[0;34m=\u001b[0m \u001b[0mnp\u001b[0m\u001b[0;34m.\u001b[0m\u001b[0marray\u001b[0m\u001b[0;34m(\u001b[0m\u001b[0mapi\u001b[0m\u001b[0;34m.\u001b[0m\u001b[0mfriends_ids\u001b[0m\u001b[0;34m(\u001b[0m\u001b[0mmyID\u001b[0m\u001b[0;34m)\u001b[0m\u001b[0;34m)\u001b[0m\u001b[0;34m\u001b[0m\u001b[0;34m\u001b[0m\u001b[0m\n\u001b[0m\u001b[1;32m      3\u001b[0m \u001b[0;34m\u001b[0m\u001b[0m\n\u001b[1;32m      4\u001b[0m \u001b[0mmyFriends\u001b[0m\u001b[0;34m\u001b[0m\u001b[0;34m\u001b[0m\u001b[0m\n",
      "\u001b[0;32m~/Library/Caches/pypoetry/virtualenvs/socialnetworkanalysis-ZaUEx_0a-py3.7/lib/python3.7/site-packages/tweepy/binder.py\u001b[0m in \u001b[0;36m_call\u001b[0;34m(*args, **kwargs)\u001b[0m\n\u001b[1;32m    250\u001b[0m                 \u001b[0;32mreturn\u001b[0m \u001b[0mmethod\u001b[0m\u001b[0;34m\u001b[0m\u001b[0;34m\u001b[0m\u001b[0m\n\u001b[1;32m    251\u001b[0m             \u001b[0;32melse\u001b[0m\u001b[0;34m:\u001b[0m\u001b[0;34m\u001b[0m\u001b[0;34m\u001b[0m\u001b[0m\n\u001b[0;32m--> 252\u001b[0;31m                 \u001b[0;32mreturn\u001b[0m \u001b[0mmethod\u001b[0m\u001b[0;34m.\u001b[0m\u001b[0mexecute\u001b[0m\u001b[0;34m(\u001b[0m\u001b[0;34m)\u001b[0m\u001b[0;34m\u001b[0m\u001b[0;34m\u001b[0m\u001b[0m\n\u001b[0m\u001b[1;32m    253\u001b[0m         \u001b[0;32mfinally\u001b[0m\u001b[0;34m:\u001b[0m\u001b[0;34m\u001b[0m\u001b[0;34m\u001b[0m\u001b[0m\n\u001b[1;32m    254\u001b[0m             \u001b[0mmethod\u001b[0m\u001b[0;34m.\u001b[0m\u001b[0msession\u001b[0m\u001b[0;34m.\u001b[0m\u001b[0mclose\u001b[0m\u001b[0;34m(\u001b[0m\u001b[0;34m)\u001b[0m\u001b[0;34m\u001b[0m\u001b[0;34m\u001b[0m\u001b[0m\n",
      "\u001b[0;32m~/Library/Caches/pypoetry/virtualenvs/socialnetworkanalysis-ZaUEx_0a-py3.7/lib/python3.7/site-packages/tweepy/binder.py\u001b[0m in \u001b[0;36mexecute\u001b[0;34m(self)\u001b[0m\n\u001b[1;32m    230\u001b[0m \u001b[0;34m\u001b[0m\u001b[0m\n\u001b[1;32m    231\u001b[0m                 \u001b[0;32mif\u001b[0m \u001b[0mis_rate_limit_error_message\u001b[0m\u001b[0;34m(\u001b[0m\u001b[0merror_msg\u001b[0m\u001b[0;34m)\u001b[0m\u001b[0;34m:\u001b[0m\u001b[0;34m\u001b[0m\u001b[0;34m\u001b[0m\u001b[0m\n\u001b[0;32m--> 232\u001b[0;31m                     \u001b[0;32mraise\u001b[0m \u001b[0mRateLimitError\u001b[0m\u001b[0;34m(\u001b[0m\u001b[0merror_msg\u001b[0m\u001b[0;34m,\u001b[0m \u001b[0mresp\u001b[0m\u001b[0;34m)\u001b[0m\u001b[0;34m\u001b[0m\u001b[0;34m\u001b[0m\u001b[0m\n\u001b[0m\u001b[1;32m    233\u001b[0m                 \u001b[0;32melse\u001b[0m\u001b[0;34m:\u001b[0m\u001b[0;34m\u001b[0m\u001b[0;34m\u001b[0m\u001b[0m\n\u001b[1;32m    234\u001b[0m                     \u001b[0;32mraise\u001b[0m \u001b[0mTweepError\u001b[0m\u001b[0;34m(\u001b[0m\u001b[0merror_msg\u001b[0m\u001b[0;34m,\u001b[0m \u001b[0mresp\u001b[0m\u001b[0;34m,\u001b[0m \u001b[0mapi_code\u001b[0m\u001b[0;34m=\u001b[0m\u001b[0mapi_error_code\u001b[0m\u001b[0;34m)\u001b[0m\u001b[0;34m\u001b[0m\u001b[0;34m\u001b[0m\u001b[0m\n",
      "\u001b[0;31mRateLimitError\u001b[0m: [{'message': 'Rate limit exceeded', 'code': 88}]"
     ]
    }
   ],
   "source": [
    "# Get my follows (friends)\n",
    "myFriends = api.friends_ids(myID)\n",
    "\n",
    "myFriends"
   ]
  },
  {
   "cell_type": "code",
   "execution_count": 79,
   "metadata": {
    "tags": []
   },
   "outputs": [],
   "source": [
    "# Get 2. Grade Follows (Friends)\n",
    "secondGradeFriends = {}\n",
    "for f_id in myFriends: # F is for Friends who do stuff together. U is for You and me. N is for Anywhere and anytime at all. Down here in the deep blue sea!\n",
    "    try:\n",
    "        # Get friends of current friend (of mine) and stores them in secondGradeFriends Dictionary\n",
    "        f_friends = api.friends_ids(f_id)\n",
    "        secondGradeFriends[f_id] = f_friends\n",
    "    except tweepy.RateLimitError:\n",
    "        # Prevents crashing if the 300 API-Call Limit from Twitters API caused an exeption\n",
    "        # Tries to continue in 15 Minutes again.\n",
    "        print('Sleep for 15 Minutes to avoid RateLimitErrors')\n",
    "        time.sleep(15 * 60)\n",
    "        f_friends = api.friends_ids(f_id)\n",
    "        secondGradeFriends[f_id] = f_friends"
   ]
  },
  {
   "cell_type": "code",
   "execution_count": 80,
   "metadata": {},
   "outputs": [],
   "source": [
    "# Reform data to fit into an edge list\n",
    "\n",
    "# Opens edge file with write access\n",
    "f = open(\"my-edgy-friends.edges\", \"w\")\n",
    "f.write(','.join(['User ID', 'User ID', 'Number of overlapping friends (weight)']) + '\\n')\n",
    "\n",
    "# Array which stores already calculated combinations\n",
    "matched = []\n",
    "\n",
    "# I know, there is for sure a better way to do this, but its late and I want to go home. :)\n",
    "# Double iteration of myFriends\n",
    "for f_id_i in myFriends:\n",
    "    f_friends_i = secondGradeFriends[f_id_i]\n",
    "\n",
    "    for f_id_j in myFriends:\n",
    "        # If i and j are same users or i and j in combination was already calculated continue with next one\n",
    "        if f_id_j == f_id_i or f'{f_id_j}-{f_id_i}' in matched:\n",
    "            continue\n",
    "\n",
    "        f_friends_j = secondGradeFriends[f_id_j]\n",
    "\n",
    "        # Number which counts the amount of overlapping friends\n",
    "        same_friends = 0\n",
    "\n",
    "        # Iterate through friends of i and j to count overlapping friends\n",
    "        for f_f_id_i in f_friends_i:\n",
    "            for f_f_id_j in f_friends_j:\n",
    "                if f_f_id_i == f_f_id_j:\n",
    "                    same_friends += 1\n",
    "        \n",
    "        # If overlapping friends exists write them to the edge list [id of i, id of h, number of overlapping friends]\n",
    "        if same_friends > 0:\n",
    "            f.write(','.join([str(f_id_i), str(f_id_j), str(same_friends)]) + '\\n')\n",
    "        \n",
    "        # Store the combination, so it doesn't calculated twice\n",
    "        matched.append(f'{f_id_i}-{f_id_j}')\n",
    "\n",
    "# Close file for os-security\n",
    "f.close()"
   ]
  }
 ]
}
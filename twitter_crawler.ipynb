{
 "metadata": {
  "language_info": {
   "codemirror_mode": {
    "name": "ipython",
    "version": 3
   },
   "file_extension": ".py",
   "mimetype": "text/x-python",
   "name": "python",
   "nbconvert_exporter": "python",
   "pygments_lexer": "ipython3",
   "version": "3.9.0-final"
  },
  "orig_nbformat": 2,
  "kernelspec": {
   "name": "python3",
   "display_name": "Python 3.9.0 64-bit",
   "metadata": {
    "interpreter": {
     "hash": "96a5d84734c2fcc0f1c4e29111ed2080412c48bc33f767562c76143427b08200"
    }
   }
  }
 },
 "nbformat": 4,
 "nbformat_minor": 2,
 "cells": [
  {
   "cell_type": "code",
   "execution_count": 20,
   "metadata": {},
   "outputs": [],
   "source": [
    "# Import ThingsapikeySecret)\n",
    "import string # for printable comparison\n",
    "import time # time thread-timeout\n",
    "import config # for apikeys\n",
    "import tweepy # for crawling Twitter"
   ]
  },
  {
   "cell_type": "code",
   "execution_count": 2,
   "metadata": {
    "tags": []
   },
   "outputs": [],
   "source": [
    "# Authenticate Tweepy, a Python Library for crawling Twitter via the Twitter API\n",
    "# Get Apikey from here: https://developer.twitter.com/en\n",
    "auth = tweepy.AppAuthHandler(\n",
    "    config.APIKEY,\n",
    "    config.SECRET_APIKEY)\n",
    "api = tweepy.API(auth)"
   ]
  },
  {
   "cell_type": "code",
   "execution_count": 3,
   "metadata": {},
   "outputs": [
    {
     "output_type": "execute_result",
     "data": {
      "text/plain": [
       "3490529422"
      ]
     },
     "metadata": {},
     "execution_count": 3
    }
   ],
   "source": [
    "# Get my ID\n",
    "myName = 'tobiashoelzer'\n",
    "myID = api.get_user(myName).id\n",
    "\n",
    "myID"
   ]
  },
  {
   "cell_type": "code",
   "execution_count": 23,
   "metadata": {},
   "outputs": [
    {
     "output_type": "execute_result",
     "data": {
      "text/plain": [
       "{'id': 2565039012,\n",
       " 'id_str': '2565039012',\n",
       " 'name': 'Diana Ivanova',\n",
       " 'screen_name': 'diana_nbd',\n",
       " 'location': 'Leeds, UK',\n",
       " 'description': 'Research fellow at the School of Earth and Environment, @SEELeeds @CREDS_UK Interested in #Sustainability, #ClimateChange, #SDG, #MRIO, #Consumption',\n",
       " 'url': 'https://t.co/DVnfVbcezo',\n",
       " 'entities': {'url': {'urls': [{'url': 'https://t.co/DVnfVbcezo',\n",
       "     'expanded_url': 'https://environment.leeds.ac.uk/see/staff/2625/dr-diana-ivanova',\n",
       "     'display_url': 'environment.leeds.ac.uk/see/staff/2625…',\n",
       "     'indices': [0, 23]}]},\n",
       "  'description': {'urls': []}},\n",
       " 'protected': False,\n",
       " 'followers_count': 1188,\n",
       " 'friends_count': 193,\n",
       " 'listed_count': 27,\n",
       " 'created_at': 'Fri Jun 13 10:21:47 +0000 2014',\n",
       " 'favourites_count': 178,\n",
       " 'utc_offset': None,\n",
       " 'time_zone': None,\n",
       " 'geo_enabled': False,\n",
       " 'verified': False,\n",
       " 'statuses_count': 251,\n",
       " 'lang': None,\n",
       " 'status': {'created_at': 'Tue Oct 20 18:01:09 +0000 2020',\n",
       "  'id': 1318613239538831362,\n",
       "  'id_str': '1318613239538831362',\n",
       "  'text': '@JKSteinberger I included a slide on it in a presentation today. And love this quote from the press release: \"Clear… https://t.co/yen2PT8lOg',\n",
       "  'truncated': True,\n",
       "  'entities': {'hashtags': [],\n",
       "   'symbols': [],\n",
       "   'user_mentions': [{'screen_name': 'JKSteinberger',\n",
       "     'name': 'Prof Julia S 🌍🌱🌹 #TrumpOut',\n",
       "     'id': 229016226,\n",
       "     'id_str': '229016226',\n",
       "     'indices': [0, 14]}],\n",
       "   'urls': [{'url': 'https://t.co/yen2PT8lOg',\n",
       "     'expanded_url': 'https://twitter.com/i/web/status/1318613239538831362',\n",
       "     'display_url': 'twitter.com/i/web/status/1…',\n",
       "     'indices': [117, 140]}]},\n",
       "  'source': '<a href=\"https://mobile.twitter.com\" rel=\"nofollow\">Twitter Web App</a>',\n",
       "  'in_reply_to_status_id': 1318472796121518080,\n",
       "  'in_reply_to_status_id_str': '1318472796121518080',\n",
       "  'in_reply_to_user_id': 229016226,\n",
       "  'in_reply_to_user_id_str': '229016226',\n",
       "  'in_reply_to_screen_name': 'JKSteinberger',\n",
       "  'geo': None,\n",
       "  'coordinates': None,\n",
       "  'place': None,\n",
       "  'contributors': None,\n",
       "  'is_quote_status': False,\n",
       "  'retweet_count': 0,\n",
       "  'favorite_count': 5,\n",
       "  'favorited': False,\n",
       "  'retweeted': False,\n",
       "  'lang': 'en'},\n",
       " 'contributors_enabled': False,\n",
       " 'is_translator': False,\n",
       " 'is_translation_enabled': False,\n",
       " 'profile_background_color': '000000',\n",
       " 'profile_background_image_url': 'http://abs.twimg.com/images/themes/theme1/bg.png',\n",
       " 'profile_background_image_url_https': 'https://abs.twimg.com/images/themes/theme1/bg.png',\n",
       " 'profile_background_tile': False,\n",
       " 'profile_image_url': 'http://pbs.twimg.com/profile_images/1280156043822194691/TK52X1BK_normal.jpg',\n",
       " 'profile_image_url_https': 'https://pbs.twimg.com/profile_images/1280156043822194691/TK52X1BK_normal.jpg',\n",
       " 'profile_link_color': '1B95E0',\n",
       " 'profile_sidebar_border_color': '000000',\n",
       " 'profile_sidebar_fill_color': '000000',\n",
       " 'profile_text_color': '000000',\n",
       " 'profile_use_background_image': False,\n",
       " 'has_extended_profile': False,\n",
       " 'default_profile': False,\n",
       " 'default_profile_image': False,\n",
       " 'following': None,\n",
       " 'follow_request_sent': None,\n",
       " 'notifications': None,\n",
       " 'muting': None,\n",
       " 'blocking': None,\n",
       " 'blocked_by': None,\n",
       " 'translator_type': 'none'}"
      ]
     },
     "metadata": {},
     "execution_count": 23
    }
   ],
   "source": [
    "# Get my follows (friends)\n",
    "myFriendsIDs = api.friends_ids(myID)\n",
    "myFriends = api.friends(myID)\n",
    "\n",
    "myFriends[0]._json"
   ]
  },
  {
   "cell_type": "code",
   "execution_count": 24,
   "metadata": {
    "tags": []
   },
   "outputs": [
    {
     "output_type": "stream",
     "name": "stdout",
     "text": [
      "Start crawling 40 Friends...\n",
      "Crawled 193 friends for friend with ID: 2565039012\n",
      "Crawled 1730 friends for friend with ID: 1277617463400828928\n",
      "Crawled 211 friends for friend with ID: 283258698\n",
      "Crawled 927 friends for friend with ID: 1094849342\n",
      "Crawled 466 friends for friend with ID: 894965941066510336\n",
      "Crawled 817 friends for friend with ID: 3165843875\n",
      "Crawled 62 friends for friend with ID: 701162514399232006\n",
      "Crawled 45 friends for friend with ID: 23748536\n",
      "Crawled 8 friends for friend with ID: 2609199708\n",
      "Crawled 907 friends for friend with ID: 1103391316464058369\n",
      "Crawled 1237 friends for friend with ID: 1068337838\n",
      "Crawled 580 friends for friend with ID: 1112222741548224512\n",
      "Crawled 368 friends for friend with ID: 3683359935\n",
      "Crawled 921 friends for friend with ID: 3232960847\n",
      "Crawled already 14!\n",
      "Sleep for 15 Minutes to avoid RateLimitErrors\n",
      "Crawled 865 friends for friend with ID: 1072187272815149057\n",
      "Crawled 5000 friends for friend with ID: 813286\n",
      "Crawled 142 friends for friend with ID: 225761424\n",
      "Crawled 245 friends for friend with ID: 1474719060\n",
      "Crawled 43 friends for friend with ID: 613552206\n",
      "Crawled 573 friends for friend with ID: 825306344961998848\n",
      "Crawled 244 friends for friend with ID: 50393960\n",
      "Crawled 100 friends for friend with ID: 44196397\n",
      "Crawled 288 friends for friend with ID: 16905329\n",
      "Crawled 934 friends for friend with ID: 2361507014\n",
      "Crawled 1 friends for friend with ID: 1217558172929380352\n",
      "Crawled 2382 friends for friend with ID: 15426691\n",
      "Crawled 183 friends for friend with ID: 3197768305\n",
      "Crawled 29 friends for friend with ID: 874293924\n",
      "Crawled already 29!\n",
      "Sleep for 15 Minutes to avoid RateLimitErrors\n",
      "Crawled 0 friends for friend with ID: 564919357\n",
      "Crawled 172 friends for friend with ID: 105554801\n",
      "Crawled 2675 friends for friend with ID: 16745492\n",
      "Crawled 13 friends for friend with ID: 2785317370\n",
      "Crawled 153 friends for friend with ID: 260163827\n",
      "Crawled 96 friends for friend with ID: 1023901483706843136\n",
      "Crawled 456 friends for friend with ID: 633100156\n",
      "Crawled 1 friends for friend with ID: 3294119409\n",
      "Crawled 8 friends for friend with ID: 3358494471\n",
      "Crawled 7 friends for friend with ID: 2970271103\n"
     ]
    }
   ],
   "source": [
    "# Get 2. Grade Follows (Friends)\n",
    "secondGradeFriends = {}\n",
    "print(f'Start crawling {len(myFriendsIDs)} Friends...')\n",
    "for f_id in myFriendsIDs: # F is for Friends who do stuff together. U is for You and me. N is for Anywhere and anytime at all. Down here in the deep blue sea!\n",
    "    try:\n",
    "        # Get friends of current friend (of mine) and stores them in secondGradeFriends Dictionary\n",
    "        f_friends = api.friends_ids(f_id)\n",
    "        secondGradeFriends[f_id] = f_friends\n",
    "        print(f'Crawled {len(f_friends)} friends for friend with ID: {f_id}')\n",
    "    except tweepy.RateLimitError:\n",
    "        # Prevents crashing if the 300 API-Call Limit from Twitters API caused an exeption\n",
    "        # Tries to continue in 15 Minutes again.\n",
    "        print(f'Crawled already {len(secondGradeFriends)}!')\n",
    "        print('Sleep for 15 Minutes to avoid RateLimitErrors')\n",
    "        time.sleep(15 * 60 + 1)\n",
    "        f_friends = api.friends_ids(f_id)\n",
    "        secondGradeFriends[f_id] = f_friends"
   ]
  },
  {
   "cell_type": "code",
   "execution_count": 25,
   "metadata": {},
   "outputs": [],
   "source": [
    "# Reform data to fit into an edge list\n",
    "\n",
    "# Opens edge file with write access\n",
    "f = open(\"my-edgy-friends.edges\", \"w\")\n",
    "f.write(','.join(['User ID', 'User ID', 'Number of overlapping friends (weight)']) + '\\n')\n",
    "\n",
    "# Array which stores already calculated combinations\n",
    "matched = []\n",
    "\n",
    "# I know, there is for sure a better way to do this, but its late and I want to go home. :)\n",
    "# Double iteration of myFriends\n",
    "for f_id_i in myFriendsIDs:\n",
    "    f_friends_i = secondGradeFriends[f_id_i]\n",
    "\n",
    "    for f_id_j in myFriendsIDs:\n",
    "        # If i and j are same users or i and j in combination was already calculated continue with next one\n",
    "        if f_id_j == f_id_i or f'{f_id_j}-{f_id_i}' in matched:\n",
    "            continue\n",
    "\n",
    "        f_friends_j = secondGradeFriends[f_id_j]\n",
    "\n",
    "        # Number which counts the amount of overlapping friends\n",
    "        same_friends = 0\n",
    "\n",
    "        # Iterate through friends of i and j to count overlapping friends\n",
    "        for f_f_id_i in f_friends_i:\n",
    "            for f_f_id_j in f_friends_j:\n",
    "                if f_f_id_i == f_f_id_j:\n",
    "                    same_friends += 1\n",
    "        \n",
    "        # If overlapping friends exists write them to the edge list [id of i, id of h, number of overlapping friends]\n",
    "        if same_friends > 0:\n",
    "            f.write(','.join([str(f_id_i), str(f_id_j), str(same_friends)]) + '\\n')\n",
    "        \n",
    "        # Store the combination, so it doesn't calculated twice\n",
    "        matched.append(f'{f_id_i}-{f_id_j}')\n",
    "\n",
    "# Close file for os-security\n",
    "f.close()"
   ]
  },
  {
   "cell_type": "code",
   "execution_count": 26,
   "metadata": {},
   "outputs": [],
   "source": [
    "# Reform data to fit into an edge list\n",
    "\n",
    "# Opens edge file with write access\n",
    "f = open(\"my-edgy-friend-network.edges\", \"w\")\n",
    "f.write(','.join(['User ID', 'User ID']) + '\\n')\n",
    "\n",
    "for f_id in secondGradeFriends:\n",
    "    for f_f_id in secondGradeFriends[f_id]:\n",
    "        f.write(','.join([str(f_id), str(f_f_id)]) + '\\n')\n",
    "\n",
    "# Close file for os-security\n",
    "f.close()"
   ]
  },
  {
   "cell_type": "code",
   "execution_count": 27,
   "metadata": {
    "tags": []
   },
   "outputs": [
    {
     "output_type": "stream",
     "name": "stdout",
     "text": [
      "Create Nodelist with 20 Friends...\n"
     ]
    }
   ],
   "source": [
    "# Get Names from friends\n",
    "f = open(\"my-nody-friends.nodes\", \"w\")\n",
    "f.write(','.join(['User ID', 'name', 'screen_name']) + '\\n')\n",
    "print(f'Create Nodelist with {len(myFriends)} Friends...')\n",
    "for friend in myFriends:\n",
    "    f_name = ''.join(s for s in friend.name if s in string.printable)\n",
    "    f.write(','.join([str(friend.id), str(f_name), str(friend.screen_name)]) + '\\n')\n",
    "\n",
    "# Close file for os-security\n",
    "f.close()"
   ]
  },
  {
   "cell_type": "code",
   "execution_count": null,
   "metadata": {},
   "outputs": [],
   "source": []
  }
 ]
}
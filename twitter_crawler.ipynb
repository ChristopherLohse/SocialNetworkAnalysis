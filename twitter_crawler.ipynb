{
 "metadata": {
  "language_info": {
   "codemirror_mode": {
    "name": "ipython",
    "version": 3
   },
   "file_extension": ".py",
   "mimetype": "text/x-python",
   "name": "python",
   "nbconvert_exporter": "python",
   "pygments_lexer": "ipython3",
   "version": "3.9.0-final"
  },
  "orig_nbformat": 2,
  "kernelspec": {
   "name": "python3",
   "display_name": "Python 3.9.0 64-bit",
   "metadata": {
    "interpreter": {
     "hash": "96a5d84734c2fcc0f1c4e29111ed2080412c48bc33f767562c76143427b08200"
    }
   }
  }
 },
 "nbformat": 4,
 "nbformat_minor": 2,
 "cells": [
  {
   "source": [
    "# Tobis Twitter Network\n",
    "\n",
    "This was a project about Tobis Twitter Network. The question we asked ourself was: \"Which people (accounts) are influencing Tobis Feed the most?\". To answer the question we used methods from the Social Network Analysis. Our first approach was to collect all friends (people which Tobi is following) and check which of his friends has overlapping friends. The second approach was to just create a network with all friends and friends of friends (2nd grade friends) from Tobi and calculate the centrallity betweenness of each node."
   ],
   "cell_type": "markdown",
   "metadata": {}
  },
  {
   "source": [
    "## Crawling\n",
    "To crawling twitter we used the [tweepy library](https://www.tweepy.org/). To use this library it is necessary to get an API-key from [Twitter Developer](https://developer.twitter.com/en). Our API-keys are stored in `config.py`, there is a template in the repository."
   ],
   "cell_type": "markdown",
   "metadata": {}
  },
  {
   "cell_type": "code",
   "execution_count": 16,
   "metadata": {},
   "outputs": [],
   "source": [
    "import string # for printable comparison\n",
    "import time # time thread-timeout\n",
    "import datetime # get current time\n",
    "import config # for apikeys\n",
    "import tweepy # for crawling Twitter"
   ]
  },
  {
   "source": [
    "First we must authenticate us with our API-keys:"
   ],
   "cell_type": "markdown",
   "metadata": {}
  },
  {
   "cell_type": "code",
   "execution_count": 17,
   "metadata": {
    "tags": []
   },
   "outputs": [],
   "source": [
    "# Authenticate Tweepy, a Python Library for crawling Twitter via the Twitter API\n",
    "# Get Apikey from here: https://developer.twitter.com/en\n",
    "auth = tweepy.AppAuthHandler(\n",
    "    config.APIKEY,\n",
    "    config.SECRET_APIKEY)\n",
    "api = tweepy.API(auth)"
   ]
  },
  {
   "source": [
    "## Get data from Twitter API\n",
    "Now we want to access Tobis Twitter-ID (Should be `3490529422`):"
   ],
   "cell_type": "markdown",
   "metadata": {}
  },
  {
   "cell_type": "code",
   "execution_count": 18,
   "metadata": {},
   "outputs": [
    {
     "output_type": "execute_result",
     "data": {
      "text/plain": [
       "3490529422"
      ]
     },
     "metadata": {},
     "execution_count": 18
    }
   ],
   "source": [
    "# Get my ID\n",
    "myName = 'tobiashoelzer'\n",
    "myID = api.get_user(myName).id # get_user returns a huge User Object with name, id, etc.\n",
    "\n",
    "myID"
   ]
  },
  {
   "source": [
    "Wow! An ID! How awesome! Now we crawl Tobis friends, theire IDs and Names:"
   ],
   "cell_type": "markdown",
   "metadata": {}
  },
  {
   "cell_type": "code",
   "execution_count": 19,
   "metadata": {},
   "outputs": [
    {
     "output_type": "execute_result",
     "data": {
      "text/plain": [
       "'Diana Ivanova'"
      ]
     },
     "metadata": {},
     "execution_count": 19
    }
   ],
   "source": [
    "# Get my follows (friends)\n",
    "myFriendsIDs = api.friends_ids(myID) # Returns a list with the IDs of max. 100 friends\n",
    "myFriendsNames = {} # Dict where each friend ID is mapped to his name\n",
    "\n",
    "# F is for Friends who do stuff together. U is for You and me. N is for Anywhere and anytime at all. Down here in the deep blue sea! - so 'f_id' means 'friend_id'\n",
    "for f_id in myFriendsIDs:\n",
    "    friend = api.get_user(f_id)\n",
    "    f_name = ''.join(s for s in friend.name if s in string.printable) # Cleanup non-printable chars\n",
    "    myFriendsNames[f_id] = f_name\n",
    "\n",
    "# Name of the latest added friend of Tobi\n",
    "myFriendsNames[myFriendsIDs[0]]"
   ]
  },
  {
   "source": [
    "After getting a list with the IDs from Tobis friends, we can go deeper! We crawl all friends of friends from Tobi and store them in a dict. This may take some time since Twitters API doesn't allow bigger API-calls like this, so there is at least one 15 min timeout after getting a RateLimitError. Take a cup of tea or do some sport while this executes. :slightly_smiling_face: :muscle:"
   ],
   "cell_type": "markdown",
   "metadata": {}
  },
  {
   "cell_type": "code",
   "execution_count": 15,
   "metadata": {
    "tags": []
   },
   "outputs": [
    {
     "output_type": "error",
     "ename": "NameError",
     "evalue": "name 'myFriendsIDs' is not defined",
     "traceback": [
      "\u001b[1;31m---------------------------------------------------------------------------\u001b[0m",
      "\u001b[1;31mNameError\u001b[0m                                 Traceback (most recent call last)",
      "\u001b[1;32m<ipython-input-15-01e4365b1cb2>\u001b[0m in \u001b[0;36m<module>\u001b[1;34m\u001b[0m\n\u001b[0;32m      1\u001b[0m \u001b[1;31m# Get 2. Grade Follows (Friends)\u001b[0m\u001b[1;33m\u001b[0m\u001b[1;33m\u001b[0m\u001b[1;33m\u001b[0m\u001b[0m\n\u001b[0;32m      2\u001b[0m \u001b[0msecondGradeFriends\u001b[0m \u001b[1;33m=\u001b[0m \u001b[1;33m{\u001b[0m\u001b[1;33m}\u001b[0m\u001b[1;33m\u001b[0m\u001b[1;33m\u001b[0m\u001b[0m\n\u001b[1;32m----> 3\u001b[1;33m \u001b[0mprint\u001b[0m\u001b[1;33m(\u001b[0m\u001b[1;34mf'Start crawling {len(myFriendsIDs)} Friends...'\u001b[0m\u001b[1;33m)\u001b[0m\u001b[1;33m\u001b[0m\u001b[1;33m\u001b[0m\u001b[0m\n\u001b[0m\u001b[0;32m      4\u001b[0m \u001b[1;32mfor\u001b[0m \u001b[0mf_id\u001b[0m \u001b[1;32min\u001b[0m \u001b[0mmyFriendsIDs\u001b[0m\u001b[1;33m:\u001b[0m\u001b[1;33m\u001b[0m\u001b[1;33m\u001b[0m\u001b[0m\n\u001b[0;32m      5\u001b[0m     \u001b[1;32mtry\u001b[0m\u001b[1;33m:\u001b[0m\u001b[1;33m\u001b[0m\u001b[1;33m\u001b[0m\u001b[0m\n",
      "\u001b[1;31mNameError\u001b[0m: name 'myFriendsIDs' is not defined"
     ]
    }
   ],
   "source": [
    "# Get 2. Grade Follows (Friends)\n",
    "secondGradeFriends = {}\n",
    "print(f'Start crawling {len(myFriendsIDs)} Friends...')\n",
    "for f_id in myFriendsIDs:\n",
    "    try:\n",
    "        # Get friends of current friend (of Tobi) and stores them in secondGradeFriends dict\n",
    "        f_friends = api.friends_ids(f_id)\n",
    "        secondGradeFriends[f_id] = f_friends\n",
    "    except tweepy.RateLimitError:\n",
    "        # Prevents crashing if the 300 API-Call Limit from Twitters API caused an exeption\n",
    "        # Tries to continue in 15 Minutes again.\n",
    "        sleep_time = 15 * 60 + 1\n",
    "        now = datetime.datetime.now()\n",
    "        tend = now + datetime.timedelta(0, sleep_time)\n",
    "        print(f'Crawled already {len(secondGradeFriends)}!')\n",
    "        print(f'Current Time: {now.strftime(\"%H:%M:%S\")}')\n",
    "        print(f'Sleep for 15 Minutes (until {tend.strftime(\"%H:%M:%S\")}) to avoid RateLimitErrors. ')\n",
    "        time.sleep(sleep_time)\n",
    "        f_friends = api.friends_ids(f_id)\n",
    "        secondGradeFriends[f_id] = f_friends"
   ]
  },
  {
   "source": [
    "## Transforming data\n",
    "After waiting for twitter to hand over the data we are now able to create an edge list and a node list. The first approach is counting all overlapping friends of Tobis friends. E.g. Tobi has three friends: Ole, Christopher and Philipp. Ole and Christopher are both following (befriended with) Barack Obama and Elon Musk. So there would be an edge `Ole <--2--> Christopher`. Ole and Philipp are both following Michael Reeves, Alexandria Ocasio-Cortez and Greta Thunberg. This edge would be `Ole <--3--> Philipp`. All edges are after the counting saved to a file called `my-edgy-friends.edges` and all nodes are saved to `my-nody-friends.nodes`:"
   ],
   "cell_type": "markdown",
   "metadata": {}
  },
  {
   "source": [
    "### String.join\n",
    "The String.join (e.g. ','.join) joins a list to a string seperated by the string. E.g. :\n",
    "```python\n",
    "mySeperatorString = '; '\n",
    "mySeperatorString.join(['Apple', 'Bee', 'Cat'])\n",
    "\n",
    "# or\n",
    "\n",
    "'; '.join(['Apple', 'Bee', 'Cat'])\n",
    "```\n",
    "Returns:\n",
    "```\n",
    "Apple; Bee; Cat\n",
    "```"
   ],
   "cell_type": "markdown",
   "metadata": {}
  },
  {
   "cell_type": "code",
   "execution_count": 44,
   "metadata": {},
   "outputs": [],
   "source": [
    "# Reform data to fit into an edge list\n",
    "\n",
    "# Opens edge file with write access and write a head row\n",
    "f = open(\"my-edgy-friends.edges\", \"w\") # This time 'f' stands for 'file'\n",
    "f.write(','.join(['User ID', 'User ID', 'Number of overlapping friends (weight)']) + '\\n')\n",
    "\n",
    "# Array which stores already calculated combinations\n",
    "matched = []\n",
    "\n",
    "# I know, there is for sure a better way to do this, but its late and I want to go home. :)\n",
    "# Double iteration of myFriends, dont try to understand\n",
    "for f_id_i in myFriendsIDs:\n",
    "    f_friends_i = secondGradeFriends[f_id_i]\n",
    "\n",
    "    for f_id_j in myFriendsIDs:\n",
    "        # If i and j are same users or i and j in combination was already calculated continue with next one\n",
    "        if f_id_j == f_id_i or f'{f_id_j}-{f_id_i}' in matched:\n",
    "            continue\n",
    "\n",
    "        f_friends_j = secondGradeFriends[f_id_j]\n",
    "\n",
    "        # Number which counts the amount of overlapping friends\n",
    "        same_friends = 0\n",
    "\n",
    "        # Iterate through friends of i and j to count overlapping friends\n",
    "        for f_f_id_i in f_friends_i:\n",
    "            for f_f_id_j in f_friends_j:\n",
    "                if f_f_id_i == f_f_id_j:\n",
    "                    same_friends += 1\n",
    "        \n",
    "        # If overlapping friends exists write them to the edge list [id of i, id of h, number of overlapping friends]\n",
    "        if same_friends > 0:\n",
    "            f.write(','.join([str(myFriendsNames[f_id_i]), str(myFriendsNames[f_id_j]), str(same_friends)]) + '\\n')\n",
    "        \n",
    "        # Store the combination, so it doesn't calculated twice\n",
    "        matched.append(f'{f_id_i}-{f_id_j}')\n",
    "\n",
    "# Close file for os-security\n",
    "f.close()"
   ]
  },
  {
   "cell_type": "code",
   "execution_count": 38,
   "metadata": {},
   "outputs": [
    {
     "output_type": "stream",
     "name": "stdout",
     "text": [
      "Create Nodelist with 20 Friends...\n"
     ]
    }
   ],
   "source": [
    "# Get Names from friends\n",
    "f = open(\"my-nody-friends.nodes\", \"w\")\n",
    "f.write(','.join(['User ID', 'name']) + '\\n')\n",
    "for f_id in myFriendsIDs:\n",
    "    f.write(','.join([str(f_id), str(myFriendsNames[f_id])]) + '\\n')\n",
    "\n",
    "# Close file for os-security\n",
    "f.close()"
   ]
  },
  {
   "source": [
    "The second approach was to use a simple directed network. So here each edge represents a directed relationship between a 1st grade friend of Tobi and a 2nd grade friend of Tobi. E.g. Tobi has two friends (follows two accounts): Günni and Peter. Günni has two more friends, Sarah and Eli. Peter has also a friend: Erik. So there would be the edges: `Günni --> Sarah`, `Günni --> Eli` and `Peter --> Erik`. The edge list is saved to the file `my-edgy-friend-network.edges`:"
   ],
   "cell_type": "markdown",
   "metadata": {}
  },
  {
   "cell_type": "code",
   "execution_count": 26,
   "metadata": {},
   "outputs": [],
   "source": [
    "f = open(\"my-edgy-friend-network.edges\", \"w\")\n",
    "f.write(','.join(['User ID', 'User ID']) + '\\n')\n",
    "\n",
    "for f_id in secondGradeFriends:\n",
    "    for f_f_id in secondGradeFriends[f_id]:\n",
    "        f.write(','.join([str(f_id), str(f_f_id)]) + '\\n')\n",
    "\n",
    "f.close()"
   ]
  }
 ]
}
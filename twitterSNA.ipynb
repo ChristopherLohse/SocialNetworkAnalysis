{
 "metadata": {
  "language_info": {
   "codemirror_mode": {
    "name": "ipython",
    "version": 3
   },
   "file_extension": ".py",
   "mimetype": "text/x-python",
   "name": "python",
   "nbconvert_exporter": "python",
   "pygments_lexer": "ipython3",
   "version": "3.8.2-final"
  },
  "orig_nbformat": 2,
  "kernelspec": {
   "name": "python3",
   "display_name": "Python 3.8.2 64-bit ('socialnetworkanalysis-D7E345Vw-py3.8')",
   "metadata": {
    "interpreter": {
     "hash": "308ad46e47a8abeadb3154365da2bcf6b23573b0ce7bb8c4aea5089af3958ab3"
    }
   }
  }
 },
 "nbformat": 4,
 "nbformat_minor": 2,
 "cells": [
  {
   "source": [
    "# Tobi's Twitter Network\n",
    "\n",
    "This is a project about Tobi's Twitter Network. The question we asked ourselves is: \"Which people (accounts) are influencing Tobis Feed the most?\". To answer this question we are using methods of the Social Network Analysis. Our first approach is to collect all friends (people which Tobi is following) and check which of his friends has overlapping friends. The second approach is to just create a network with all friends and friends of friends (2nd-grade friends) from Tobi and calculate the centrality betweenness of each node."
   ],
   "cell_type": "markdown",
   "metadata": {}
  },
  {
   "source": [
    "## 1. Crawling\n",
    "To crawling Twitter we are using the [tweepy library](https://www.tweepy.org/). To use this library it is necessary to get an API-key from [Twitter Developer](https://developer.twitter.com/en). Our API-keys is stored in `config.py`. A template is included in the repository."
   ],
   "cell_type": "markdown",
   "metadata": {}
  },
  {
   "cell_type": "code",
   "execution_count": 30,
   "metadata": {},
   "outputs": [],
   "source": [
    "import string # for printable comparison\n",
    "import time # time thread-timeout\n",
    "import datetime # get current time\n",
    "import config # for apikeys\n",
    "import tweepy # for crawling Twitter"
   ]
  },
  {
   "source": [
    "First, we must authenticate us with our API-keys:"
   ],
   "cell_type": "markdown",
   "metadata": {}
  },
  {
   "cell_type": "code",
   "execution_count": 31,
   "metadata": {
    "tags": []
   },
   "outputs": [],
   "source": [
    "# Authenticate Tweepy, a Python Library for crawling Twitter via the Twitter API\n",
    "# Get Apikey from here: https://developer.twitter.com/en\n",
    "auth = tweepy.AppAuthHandler(\n",
    "    config.APIKEY,\n",
    "    config.SECRET_APIKEY)\n",
    "api = tweepy.API(auth)"
   ]
  },
  {
   "source": [
    "## Get data from Twitter API\n",
    "Now we want to access Tobis Twitter-ID (Should be `3490529422`):"
   ],
   "cell_type": "markdown",
   "metadata": {}
  },
  {
   "cell_type": "code",
   "execution_count": 32,
   "metadata": {},
   "outputs": [
    {
     "output_type": "execute_result",
     "data": {
      "text/plain": [
       "3490529422"
      ]
     },
     "metadata": {},
     "execution_count": 32
    }
   ],
   "source": [
    "# Get my ID\n",
    "myName = 'tobiashoelzer'\n",
    "myID = api.get_user(myName).id # get_user returns a huge User Object with name, id, etc.\n",
    "\n",
    "myID"
   ]
  },
  {
   "source": [
    "Wow! An ID! How awesome! Now we crawl Tobi's friends, their IDs and Names:"
   ],
   "cell_type": "markdown",
   "metadata": {}
  },
  {
   "cell_type": "code",
   "execution_count": 33,
   "metadata": {},
   "outputs": [
    {
     "output_type": "execute_result",
     "data": {
      "text/plain": [
       "'Diana Ivanova'"
      ]
     },
     "metadata": {},
     "execution_count": 33
    }
   ],
   "source": [
    "# Get my follows (friends)\n",
    "myFriendsIDs = api.friends_ids(myID) # Returns a list with the IDs of max. 100 friends\n",
    "myFriendsNames = {} # Dict where each friend ID is mapped to his name\n",
    "\n",
    "# F is for Friends who do stuff together. U is for You and me. N is for Anywhere and anytime at all. Down here in the deep blue sea! - so 'f_id' means 'friend_id'\n",
    "for f_id in myFriendsIDs:\n",
    "    friend = api.get_user(f_id)\n",
    "    f_name = ''.join(s for s in friend.name if s in string.printable) # Cleanup non-printable chars\n",
    "    myFriendsNames[f_id] = f_name\n",
    "\n",
    "# Name of the latest added friend of Tobi\n",
    "myFriendsNames[myFriendsIDs[0]]"
   ]
  },
  {
   "source": [
    "After getting a list with the IDs of Tobi's friends, we can go deeper! We crawl all friends of friends from Tobi and store them in a \"dict\". This may take some time since Twitter's API doesn't allow bigger API-calls like this, so there is at least one 15 min timeout after getting a RateLimitError. Take a cup of tea or do some sport while this executes."
   ],
   "cell_type": "markdown",
   "metadata": {}
  },
  {
   "cell_type": "code",
   "execution_count": 34,
   "metadata": {
    "tags": []
   },
   "outputs": [
    {
     "output_type": "stream",
     "name": "stdout",
     "text": [
      "Start crawling 40 Friends...\n",
      "Crawled already 14!\n",
      "Current Time: 14:20:08\n",
      "Sleep for 15 Minutes (until 14:35:09) to avoid RateLimitErrors. \n",
      "Crawled already 29!\n",
      "Current Time: 14:35:27\n",
      "Sleep for 15 Minutes (until 14:50:28) to avoid RateLimitErrors. \n"
     ]
    }
   ],
   "source": [
    "# Get 2. Grade Follows (Friends)\n",
    "secondGradeFriends = {}\n",
    "print(f'Start crawling {len(myFriendsIDs)} Friends...')\n",
    "for f_id in myFriendsIDs:\n",
    "    try:\n",
    "        # Get friends of current friend (of Tobi) and stores them in secondGradeFriends dict\n",
    "        f_friends = api.friends_ids(f_id)\n",
    "        secondGradeFriends[f_id] = f_friends\n",
    "    except tweepy.RateLimitError:\n",
    "        # Prevents crashing if the 300 API-Call Limit from Twitters API caused an exeption\n",
    "        # Tries to continue in 15 Minutes again.\n",
    "        sleep_time = 15 * 60 + 1\n",
    "        now = datetime.datetime.now()\n",
    "        tend = now + datetime.timedelta(0, sleep_time)\n",
    "        print(f'Crawled already {len(secondGradeFriends)}!')\n",
    "        print(f'Current Time: {now.strftime(\"%H:%M:%S\")}')\n",
    "        print(f'Sleep for 15 Minutes (until {tend.strftime(\"%H:%M:%S\")}) to avoid RateLimitErrors. ')\n",
    "        time.sleep(sleep_time)\n",
    "        f_friends = api.friends_ids(f_id)\n",
    "        secondGradeFriends[f_id] = f_friends"
   ]
  },
  {
   "source": [
    "## Transforming data\n",
    "After waiting for Twitter to hand over the data we are now able to create an edge list and a node list. The first approach is counting all overlapping friends of Tobi's friends. E.g. Tobi has three friends: Ole, Christopher and Philipp. Ole and Christopher are both following (befriended with) Barack Obama and Elon Musk. So there would be an edge `Ole <--2--> Christopher`. Ole and Philipp are both following Michael Reeves, Alexandria Ocasio-Cortez and Greta Thunberg. This edge would be `Ole <--3--> Philipp`. All edges are after the counting saved to a file called `my-edgy-friends.edges` and all nodes are saved to `my-nody-friends.nodes`:"
   ],
   "cell_type": "markdown",
   "metadata": {}
  },
  {
   "source": [
    "### String.join\n",
    "The String.join (e.g. ','.join) joins a list to a string seperated by the string. E.g. :\n",
    "```python\n",
    "mySeperatorString = '; '\n",
    "mySeperatorString.join(['Apple', 'Bee', 'Cat'])\n",
    "\n",
    "# or\n",
    "\n",
    "'; '.join(['Apple', 'Bee', 'Cat'])\n",
    "```\n",
    "Returns:\n",
    "```\n",
    "Apple; Bee; Cat\n",
    "```"
   ],
   "cell_type": "markdown",
   "metadata": {}
  },
  {
   "cell_type": "code",
   "execution_count": 35,
   "metadata": {},
   "outputs": [],
   "source": [
    "# Reform data to fit into an edge list\n",
    "\n",
    "# Opens edge file with write access and write a head row\n",
    "f = open(\"my-edgy-friends.edges\", \"w\") # This time 'f' stands for 'file'\n",
    "f.write(','.join(['User ID', 'User ID', 'Number of overlapping friends (weight)']) + '\\n')\n",
    "\n",
    "# Array which stores already calculated combinations\n",
    "matched = []\n",
    "\n",
    "# I know, there is for sure a better way to do this, but its late and I want to go home. :)\n",
    "# Double iteration of myFriends, dont try to understand\n",
    "for f_id_i in myFriendsIDs:\n",
    "    f_friends_i = secondGradeFriends[f_id_i]\n",
    "\n",
    "    for f_id_j in myFriendsIDs:\n",
    "        # If i and j are same users or i and j in combination was already calculated continue with next one\n",
    "        if f_id_j == f_id_i or f'{f_id_j}-{f_id_i}' in matched:\n",
    "            continue\n",
    "\n",
    "        f_friends_j = secondGradeFriends[f_id_j]\n",
    "\n",
    "        # Number which counts the amount of overlapping friends\n",
    "        same_friends = 0\n",
    "\n",
    "        # Iterate through friends of i and j to count overlapping friends\n",
    "        for f_f_id_i in f_friends_i:\n",
    "            for f_f_id_j in f_friends_j:\n",
    "                if f_f_id_i == f_f_id_j:\n",
    "                    same_friends += 1\n",
    "        \n",
    "        # If overlapping friends exists write them to the edge list [id of i, id of h, number of overlapping friends]\n",
    "        if same_friends > 0:\n",
    "            f.write(','.join([str(myFriendsNames[f_id_i]), str(myFriendsNames[f_id_j]), str(same_friends)]) + '\\n')\n",
    "        \n",
    "        # Store the combination, so it doesn't calculated twice\n",
    "        matched.append(f'{f_id_i}-{f_id_j}')\n",
    "\n",
    "# Close file for os-security\n",
    "f.close()"
   ]
  },
  {
   "cell_type": "code",
   "execution_count": 36,
   "metadata": {},
   "outputs": [],
   "source": [
    "# Get Names from friends\n",
    "f = open(\"my-nody-friends.nodes\", \"w\")\n",
    "f.write(','.join(['User ID', 'name']) + '\\n')\n",
    "for f_id in myFriendsIDs:\n",
    "    f.write(','.join([str(f_id), str(myFriendsNames[f_id])]) + '\\n')\n",
    "\n",
    "# Close file for os-security\n",
    "f.close()"
   ]
  },
  {
   "source": [
    "---\n",
    "## 2. Social Network Analysis\n",
    "This part is executable without the 1. part!\n",
    "We are now able to read the data from the edge- and node files and put them in a  pandas dataFrame:"
   ],
   "cell_type": "markdown",
   "metadata": {}
  },
  {
   "cell_type": "code",
   "execution_count": 37,
   "metadata": {},
   "outputs": [],
   "source": [
    "import pandas as pd # for analysing and changing data\n",
    "import networkx as nx # for creating edges and nodes\n",
    "import IPython # for showing html output in cells\n",
    "from pyecharts.charts import Graph # library for visualising Network\n",
    "from pyecharts import options as opts # further visualising options"
   ]
  },
  {
   "cell_type": "code",
   "execution_count": 38,
   "metadata": {},
   "outputs": [
    {
     "output_type": "execute_result",
     "data": {
      "text/plain": [
       "           node1                         node2 value\n",
       "1  Diana Ivanova  Berlin4Future #BidenForParis     2\n",
       "2  Diana Ivanova          Marie von den Benken     2"
      ],
      "text/html": "<div>\n<style scoped>\n    .dataframe tbody tr th:only-of-type {\n        vertical-align: middle;\n    }\n\n    .dataframe tbody tr th {\n        vertical-align: top;\n    }\n\n    .dataframe thead th {\n        text-align: right;\n    }\n</style>\n<table border=\"1\" class=\"dataframe\">\n  <thead>\n    <tr style=\"text-align: right;\">\n      <th></th>\n      <th>node1</th>\n      <th>node2</th>\n      <th>value</th>\n    </tr>\n  </thead>\n  <tbody>\n    <tr>\n      <th>1</th>\n      <td>Diana Ivanova</td>\n      <td>Berlin4Future #BidenForParis</td>\n      <td>2</td>\n    </tr>\n    <tr>\n      <th>2</th>\n      <td>Diana Ivanova</td>\n      <td>Marie von den Benken</td>\n      <td>2</td>\n    </tr>\n  </tbody>\n</table>\n</div>"
     },
     "metadata": {},
     "execution_count": 38
    }
   ],
   "source": [
    "# Reading Data into pandas DataFrame adjusting columns\n",
    "df = pd.read_csv(\"my-edgy-friends.edges\",names = [\"node1\", \"node2\", \"value\"] )\n",
    "df.drop(index=0, inplace=True) # Drop old header\n",
    "df.head(2)"
   ]
  },
  {
   "cell_type": "code",
   "execution_count": 39,
   "metadata": {},
   "outputs": [
    {
     "output_type": "execute_result",
     "data": {
      "text/plain": [
       "'The DataFrame has the dimension 433 rows and 3 columns'"
      ]
     },
     "metadata": {},
     "execution_count": 39
    }
   ],
   "source": [
    "f'The DataFrame has the dimension {df.shape[0]} rows and {df.shape[1]} columns'"
   ]
  },
  {
   "source": [
    "## Create the Network\n",
    "We can now extract these edges (rows) from our dataFrame with the help of this function:"
   ],
   "cell_type": "markdown",
   "metadata": {}
  },
  {
   "cell_type": "code",
   "execution_count": 40,
   "metadata": {},
   "outputs": [],
   "source": [
    "def create_edgelist(df: pd.DataFrame) -> [(str, str)]:\n",
    "    \"\"\"\n",
    "    takes:\n",
    "        a pandas datframe with target and source nodes in columsn\n",
    "    returns:\n",
    "        an edgelist in form of [(source, target)]\n",
    "\n",
    "    \"\"\"\n",
    "    # Iterating over the whole datframe and append the nodes to the edgelist\n",
    "    edgelist = []\n",
    "    for index, row in df.iterrows(): \n",
    "        edgelist.append([str(row.node1), str(row.node2)])\n",
    "    return edgelist"
   ]
  },
  {
   "cell_type": "code",
   "execution_count": 41,
   "metadata": {},
   "outputs": [],
   "source": [
    "edgelist = create_edgelist(df)"
   ]
  },
  {
   "source": [
    "## Initiate the Network Graph\n",
    "The edges from the edgelist can now be added to a new nx.Graph object. The nx.Graph extracts all Nodes automatically from the edges:"
   ],
   "cell_type": "markdown",
   "metadata": {}
  },
  {
   "cell_type": "code",
   "execution_count": 42,
   "metadata": {},
   "outputs": [
    {
     "output_type": "execute_result",
     "data": {
      "text/plain": [
       "NodeView(('Diana Ivanova', 'Berlin4Future #BidenForParis', 'Marie von den Benken', 'Mai Thi Nguyen-Kim', 'Tommi Schmitt', 'Scientists for Future', 'Luisa Neubauer', 'DevelopersForFuture  #WeVsClimateCrisis', 'Rezo', 'Ende Gelnde', 'Karl Lauterbach', 'Fridays For Future Germany', 'Nico Semsrott', 'Fabian Kster', 'Hazel Brugger', 'Volksverpetzer', 'Bill Gates', 'Ole', 'teresa bcker', 'extra3', 'Juju', 'Felix Lobrecht', 'Till Reiners', 'erzaehlmirnix', 'Sven Stueven', 'Der Postillon', 'Tobse', 'Schdegie.', 'L. Duy Pham', 'TheMinnieTheMouse', 'Barack Obama', 'Elon Musk', 'ESL', 'INA HOUT', 'ZDF heute-show', 'Joyce', \"Let'sPlayBros\"))"
      ]
     },
     "metadata": {},
     "execution_count": 42
    }
   ],
   "source": [
    "G = nx.Graph()\n",
    "G.add_edges_from(edgelist)\n",
    "G.nodes()"
   ]
  },
  {
   "source": [
    "Our first network is an `undirected` `1-mode` network. The edges are `weighted`."
   ],
   "cell_type": "markdown",
   "metadata": {}
  },
  {
   "source": [
    "With the help of the nx library, it is now possible to calculate the `degree_centrality` for all nodes in our nx.Graph object. We want to calculate the degree degree_centrality because we want to find out who has the most contacts shared with Tobi."
   ],
   "cell_type": "markdown",
   "metadata": {}
  },
  {
   "cell_type": "code",
   "execution_count": 43,
   "metadata": {},
   "outputs": [
    {
     "output_type": "execute_result",
     "data": {
      "text/plain": [
       "['Ole', 'extra3', 'Mai Thi Nguyen-Kim', 'Luisa Neubauer', 'Rezo']"
      ]
     },
     "metadata": {},
     "execution_count": 43
    }
   ],
   "source": [
    "# Calculating degree_centrality which returns an object with the value for each node:\n",
    "# {'nodename'(str): degree_centrality_from_node(float), ...}\n",
    "centrality = nx.degree_centrality(G)\n",
    "# Making a Top 5 List regarding degree centrality\n",
    "centrality_top5 = sorted(centrality, key=centrality.get, reverse=True)[:5]\n",
    "centrality_top5"
   ]
  },
  {
   "source": [
    "## Visualize the Network Graph\n",
    "Now we can visualize the Network Graph. In order to achieve this, we create two helper functions to configure the appearance of the nodes and the edges."
   ],
   "cell_type": "markdown",
   "metadata": {}
  },
  {
   "cell_type": "code",
   "execution_count": 44,
   "metadata": {},
   "outputs": [],
   "source": [
    "def configure_nodes_visualisation(G : nx.Graph)->[dict]:\n",
    "    \"\"\"\n",
    "    takes:\n",
    "        an networkx graph object\n",
    "    returns:\n",
    "        a list of dicts suitable for pyecharts network  visualisation nodes\n",
    "    \"\"\"\n",
    "    # Calculating the centrality degree of every node in the network and make a list out of the Top 5\n",
    "    centrality = nx.degree_centrality(G)\n",
    "    centrality_top5 = sorted(centrality, key=centrality.get, reverse=True)[:5]\n",
    "\n",
    "    # Create a new viz_nodes list from the Graph nodes with appearence information for each node\n",
    "    viz_nodes = []\n",
    "    for node in G.nodes():\n",
    "        # Fail-fast if the centrality of the node is to low. This minimizes the network which is very helpfull for large networks\n",
    "        if centrality[node] <= 0.001:\n",
    "            continue\n",
    "        \n",
    "        # Different appearence for the Top 5 nodes\n",
    "        if node in centrality_top5: #make another layout for top5 nodes\n",
    "            viz_nodes.append({\n",
    "                \"name\": node,\n",
    "                \"symbol\": \"triangle\",\n",
    "                \"symbolSize\": centrality[node]*10 ,\n",
    "                \"categorie\": \"top5\",\n",
    "                \"draggable\": True,\n",
    "                \"itemStyle\": {\"color\": \"#ff3f76\"},\n",
    "                \"label\": {\"show\": True},\n",
    "                \"value\": round(centrality[node],2)\n",
    "            })\n",
    "        else:\n",
    "            viz_nodes.append({\n",
    "                \"name\": node,\n",
    "                \"symbol\": \"rect\",\n",
    "                \"symbolSize\": centrality[node]*10,\n",
    "                \"categorie\": \"ordinary\",\n",
    "                \"draggable\": True,\n",
    "                \"itemStyle\": {\"color\": \"#789704\"},\n",
    "                \"label\": {\"show\": centrality[node] > 0.74}, # Show label only if centrality above 0.74\n",
    "                \"value\": round(centrality[node], 2)\n",
    "            })\n",
    "\n",
    "    return viz_nodes"
   ]
  },
  {
   "cell_type": "code",
   "execution_count": 45,
   "metadata": {},
   "outputs": [],
   "source": [
    "def configure_edges_visualisation(G:nx.Graph)->[dict]:\n",
    "    \"\"\"\n",
    "    takes: \n",
    "        an networkx graph object\n",
    "    returns:\n",
    "        a list of dicts suitable for pyecharts network  visualisation edges\n",
    "    \"\"\"\n",
    "    # Create a new links list from the Graph nodes with appearence information for each link / edge\n",
    "    links = []\n",
    "    for index, row in df.iterrows():\n",
    "        links.append({\n",
    "            \"source\": str(row.node1),\n",
    "            \"target\": str(row.node2),\n",
    "            \"value\": int(row.value)\n",
    "        })\n",
    "    \n",
    "    return links"
   ]
  },
  {
   "cell_type": "code",
   "execution_count": 46,
   "metadata": {},
   "outputs": [
    {
     "output_type": "execute_result",
     "data": {
      "text/plain": [
       "[{'name': 'Diana Ivanova',\n",
       "  'symbol': 'rect',\n",
       "  'symbolSize': 5.277777777777778,\n",
       "  'categorie': 'ordinary',\n",
       "  'draggable': True,\n",
       "  'itemStyle': {'color': '#789704'},\n",
       "  'label': {'show': False},\n",
       "  'value': 0.53},\n",
       " {'name': 'Berlin4Future #BidenForParis',\n",
       "  'symbol': 'rect',\n",
       "  'symbolSize': 7.5,\n",
       "  'categorie': 'ordinary',\n",
       "  'draggable': True,\n",
       "  'itemStyle': {'color': '#789704'},\n",
       "  'label': {'show': True},\n",
       "  'value': 0.75}]"
      ]
     },
     "metadata": {},
     "execution_count": 46
    }
   ],
   "source": [
    "nodes = configure_nodes_visualisation(G)\n",
    "nodes[:2] # Example of the created list"
   ]
  },
  {
   "cell_type": "code",
   "execution_count": 47,
   "metadata": {},
   "outputs": [
    {
     "output_type": "execute_result",
     "data": {
      "text/plain": [
       "[{'source': 'Diana Ivanova',\n",
       "  'target': 'Berlin4Future #BidenForParis',\n",
       "  'value': 2},\n",
       " {'source': 'Diana Ivanova', 'target': 'Marie von den Benken', 'value': 2}]"
      ]
     },
     "metadata": {},
     "execution_count": 47
    }
   ],
   "source": [
    "links = configure_edges_visualisation(G)\n",
    "links[:2] # Example of two edge dicts "
   ]
  },
  {
   "source": [
    "And with these configured links and nodes we can render a Graph Figure:"
   ],
   "cell_type": "markdown",
   "metadata": {}
  },
  {
   "cell_type": "code",
   "execution_count": 48,
   "metadata": {},
   "outputs": [
    {
     "output_type": "execute_result",
     "data": {
      "text/plain": [
       "<pyecharts.render.display.HTML at 0x7fafcba67340>"
      ],
      "text/html": "\n<script>\n    require.config({\n        paths: {\n            'echarts':'https://assets.pyecharts.org/assets/echarts.min'\n        }\n    });\n</script>\n\n        <div id=\"ff5aa81d3ab8499a8358234f1637d974\" style=\"width:900px; height:900px;\"></div>\n\n<script>\n        require(['echarts'], function(echarts) {\n                var chart_ff5aa81d3ab8499a8358234f1637d974 = echarts.init(\n                    document.getElementById('ff5aa81d3ab8499a8358234f1637d974'), 'white', {renderer: 'canvas'});\n                var option_ff5aa81d3ab8499a8358234f1637d974 = {\n    \"animation\": true,\n    \"animationThreshold\": 2000,\n    \"animationDuration\": 1000,\n    \"animationEasing\": \"cubicOut\",\n    \"animationDelay\": 0,\n    \"animationDurationUpdate\": 300,\n    \"animationEasingUpdate\": \"cubicOut\",\n    \"animationDelayUpdate\": 0,\n    \"color\": [\n        \"#c23531\",\n        \"#2f4554\",\n        \"#61a0a8\",\n        \"#d48265\",\n        \"#749f83\",\n        \"#ca8622\",\n        \"#bda29a\",\n        \"#6e7074\",\n        \"#546570\",\n        \"#c4ccd3\",\n        \"#f05b72\",\n        \"#ef5b9c\",\n        \"#f47920\",\n        \"#905a3d\",\n        \"#fab27b\",\n        \"#2a5caa\",\n        \"#444693\",\n        \"#726930\",\n        \"#b2d235\",\n        \"#6d8346\",\n        \"#ac6767\",\n        \"#1d953f\",\n        \"#6950a1\",\n        \"#918597\"\n    ],\n    \"series\": [\n        {\n            \"type\": \"graph\",\n            \"name\": \"Tobis Twitter Network\",\n            \"layout\": \"force\",\n            \"symbolSize\": 10,\n            \"circular\": {\n                \"rotateLabel\": false\n            },\n            \"force\": {\n                \"repulsion\": 1,\n                \"edgeLength\": 50,\n                \"gravity\": 0.5\n            },\n            \"label\": {\n                \"show\": true,\n                \"position\": \"top\",\n                \"margin\": 8\n            },\n            \"lineStyle\": {\n                \"show\": true,\n                \"width\": 0.1,\n                \"opacity\": 1,\n                \"curveness\": 0.1,\n                \"type\": \"solid\",\n                \"color\": \"source\"\n            },\n            \"roam\": true,\n            \"draggable\": false,\n            \"focusNodeAdjacency\": true,\n            \"data\": [\n                {\n                    \"name\": \"Diana Ivanova\",\n                    \"symbol\": \"rect\",\n                    \"symbolSize\": 5.277777777777778,\n                    \"categorie\": \"ordinary\",\n                    \"draggable\": true,\n                    \"itemStyle\": {\n                        \"color\": \"#789704\"\n                    },\n                    \"label\": {\n                        \"show\": false\n                    },\n                    \"value\": 0.53\n                },\n                {\n                    \"name\": \"Berlin4Future #BidenForParis\",\n                    \"symbol\": \"rect\",\n                    \"symbolSize\": 7.5,\n                    \"categorie\": \"ordinary\",\n                    \"draggable\": true,\n                    \"itemStyle\": {\n                        \"color\": \"#789704\"\n                    },\n                    \"label\": {\n                        \"show\": true\n                    },\n                    \"value\": 0.75\n                },\n                {\n                    \"name\": \"Marie von den Benken\",\n                    \"symbol\": \"rect\",\n                    \"symbolSize\": 6.388888888888888,\n                    \"categorie\": \"ordinary\",\n                    \"draggable\": true,\n                    \"itemStyle\": {\n                        \"color\": \"#789704\"\n                    },\n                    \"label\": {\n                        \"show\": false\n                    },\n                    \"value\": 0.64\n                },\n                {\n                    \"name\": \"Mai Thi Nguyen-Kim\",\n                    \"symbol\": \"triangle\",\n                    \"symbolSize\": 9.166666666666666,\n                    \"categorie\": \"top5\",\n                    \"draggable\": true,\n                    \"itemStyle\": {\n                        \"color\": \"#ff3f76\"\n                    },\n                    \"label\": {\n                        \"show\": true\n                    },\n                    \"value\": 0.92\n                },\n                {\n                    \"name\": \"Tommi Schmitt\",\n                    \"symbol\": \"rect\",\n                    \"symbolSize\": 8.61111111111111,\n                    \"categorie\": \"ordinary\",\n                    \"draggable\": true,\n                    \"itemStyle\": {\n                        \"color\": \"#789704\"\n                    },\n                    \"label\": {\n                        \"show\": true\n                    },\n                    \"value\": 0.86\n                },\n                {\n                    \"name\": \"Scientists for Future\",\n                    \"symbol\": \"rect\",\n                    \"symbolSize\": 7.5,\n                    \"categorie\": \"ordinary\",\n                    \"draggable\": true,\n                    \"itemStyle\": {\n                        \"color\": \"#789704\"\n                    },\n                    \"label\": {\n                        \"show\": true\n                    },\n                    \"value\": 0.75\n                },\n                {\n                    \"name\": \"Luisa Neubauer\",\n                    \"symbol\": \"triangle\",\n                    \"symbolSize\": 8.88888888888889,\n                    \"categorie\": \"top5\",\n                    \"draggable\": true,\n                    \"itemStyle\": {\n                        \"color\": \"#ff3f76\"\n                    },\n                    \"label\": {\n                        \"show\": true\n                    },\n                    \"value\": 0.89\n                },\n                {\n                    \"name\": \"DevelopersForFuture  #WeVsClimateCrisis\",\n                    \"symbol\": \"rect\",\n                    \"symbolSize\": 8.61111111111111,\n                    \"categorie\": \"ordinary\",\n                    \"draggable\": true,\n                    \"itemStyle\": {\n                        \"color\": \"#789704\"\n                    },\n                    \"label\": {\n                        \"show\": true\n                    },\n                    \"value\": 0.86\n                },\n                {\n                    \"name\": \"Rezo\",\n                    \"symbol\": \"triangle\",\n                    \"symbolSize\": 8.88888888888889,\n                    \"categorie\": \"top5\",\n                    \"draggable\": true,\n                    \"itemStyle\": {\n                        \"color\": \"#ff3f76\"\n                    },\n                    \"label\": {\n                        \"show\": true\n                    },\n                    \"value\": 0.89\n                },\n                {\n                    \"name\": \"Ende Gelnde\",\n                    \"symbol\": \"rect\",\n                    \"symbolSize\": 7.222222222222222,\n                    \"categorie\": \"ordinary\",\n                    \"draggable\": true,\n                    \"itemStyle\": {\n                        \"color\": \"#789704\"\n                    },\n                    \"label\": {\n                        \"show\": false\n                    },\n                    \"value\": 0.72\n                },\n                {\n                    \"name\": \"Karl Lauterbach\",\n                    \"symbol\": \"rect\",\n                    \"symbolSize\": 8.333333333333332,\n                    \"categorie\": \"ordinary\",\n                    \"draggable\": true,\n                    \"itemStyle\": {\n                        \"color\": \"#789704\"\n                    },\n                    \"label\": {\n                        \"show\": true\n                    },\n                    \"value\": 0.83\n                },\n                {\n                    \"name\": \"Fridays For Future Germany\",\n                    \"symbol\": \"rect\",\n                    \"symbolSize\": 8.333333333333332,\n                    \"categorie\": \"ordinary\",\n                    \"draggable\": true,\n                    \"itemStyle\": {\n                        \"color\": \"#789704\"\n                    },\n                    \"label\": {\n                        \"show\": true\n                    },\n                    \"value\": 0.83\n                },\n                {\n                    \"name\": \"Nico Semsrott\",\n                    \"symbol\": \"rect\",\n                    \"symbolSize\": 8.055555555555555,\n                    \"categorie\": \"ordinary\",\n                    \"draggable\": true,\n                    \"itemStyle\": {\n                        \"color\": \"#789704\"\n                    },\n                    \"label\": {\n                        \"show\": true\n                    },\n                    \"value\": 0.81\n                },\n                {\n                    \"name\": \"Fabian Kster\",\n                    \"symbol\": \"rect\",\n                    \"symbolSize\": 8.333333333333332,\n                    \"categorie\": \"ordinary\",\n                    \"draggable\": true,\n                    \"itemStyle\": {\n                        \"color\": \"#789704\"\n                    },\n                    \"label\": {\n                        \"show\": true\n                    },\n                    \"value\": 0.83\n                },\n                {\n                    \"name\": \"Hazel Brugger\",\n                    \"symbol\": \"rect\",\n                    \"symbolSize\": 7.5,\n                    \"categorie\": \"ordinary\",\n                    \"draggable\": true,\n                    \"itemStyle\": {\n                        \"color\": \"#789704\"\n                    },\n                    \"label\": {\n                        \"show\": true\n                    },\n                    \"value\": 0.75\n                },\n                {\n                    \"name\": \"Volksverpetzer\",\n                    \"symbol\": \"rect\",\n                    \"symbolSize\": 7.5,\n                    \"categorie\": \"ordinary\",\n                    \"draggable\": true,\n                    \"itemStyle\": {\n                        \"color\": \"#789704\"\n                    },\n                    \"label\": {\n                        \"show\": true\n                    },\n                    \"value\": 0.75\n                },\n                {\n                    \"name\": \"Bill Gates\",\n                    \"symbol\": \"rect\",\n                    \"symbolSize\": 5.0,\n                    \"categorie\": \"ordinary\",\n                    \"draggable\": true,\n                    \"itemStyle\": {\n                        \"color\": \"#789704\"\n                    },\n                    \"label\": {\n                        \"show\": false\n                    },\n                    \"value\": 0.5\n                },\n                {\n                    \"name\": \"Ole\",\n                    \"symbol\": \"triangle\",\n                    \"symbolSize\": 9.444444444444445,\n                    \"categorie\": \"top5\",\n                    \"draggable\": true,\n                    \"itemStyle\": {\n                        \"color\": \"#ff3f76\"\n                    },\n                    \"label\": {\n                        \"show\": true\n                    },\n                    \"value\": 0.94\n                },\n                {\n                    \"name\": \"teresa bcker\",\n                    \"symbol\": \"rect\",\n                    \"symbolSize\": 8.88888888888889,\n                    \"categorie\": \"ordinary\",\n                    \"draggable\": true,\n                    \"itemStyle\": {\n                        \"color\": \"#789704\"\n                    },\n                    \"label\": {\n                        \"show\": true\n                    },\n                    \"value\": 0.89\n                },\n                {\n                    \"name\": \"extra3\",\n                    \"symbol\": \"triangle\",\n                    \"symbolSize\": 9.444444444444445,\n                    \"categorie\": \"top5\",\n                    \"draggable\": true,\n                    \"itemStyle\": {\n                        \"color\": \"#ff3f76\"\n                    },\n                    \"label\": {\n                        \"show\": true\n                    },\n                    \"value\": 0.94\n                },\n                {\n                    \"name\": \"Juju\",\n                    \"symbol\": \"rect\",\n                    \"symbolSize\": 6.944444444444445,\n                    \"categorie\": \"ordinary\",\n                    \"draggable\": true,\n                    \"itemStyle\": {\n                        \"color\": \"#789704\"\n                    },\n                    \"label\": {\n                        \"show\": false\n                    },\n                    \"value\": 0.69\n                },\n                {\n                    \"name\": \"Felix Lobrecht\",\n                    \"symbol\": \"rect\",\n                    \"symbolSize\": 7.5,\n                    \"categorie\": \"ordinary\",\n                    \"draggable\": true,\n                    \"itemStyle\": {\n                        \"color\": \"#789704\"\n                    },\n                    \"label\": {\n                        \"show\": true\n                    },\n                    \"value\": 0.75\n                },\n                {\n                    \"name\": \"Till Reiners\",\n                    \"symbol\": \"rect\",\n                    \"symbolSize\": 6.666666666666666,\n                    \"categorie\": \"ordinary\",\n                    \"draggable\": true,\n                    \"itemStyle\": {\n                        \"color\": \"#789704\"\n                    },\n                    \"label\": {\n                        \"show\": false\n                    },\n                    \"value\": 0.67\n                },\n                {\n                    \"name\": \"erzaehlmirnix\",\n                    \"symbol\": \"rect\",\n                    \"symbolSize\": 6.111111111111111,\n                    \"categorie\": \"ordinary\",\n                    \"draggable\": true,\n                    \"itemStyle\": {\n                        \"color\": \"#789704\"\n                    },\n                    \"label\": {\n                        \"show\": false\n                    },\n                    \"value\": 0.61\n                },\n                {\n                    \"name\": \"Sven Stueven\",\n                    \"symbol\": \"rect\",\n                    \"symbolSize\": 4.166666666666666,\n                    \"categorie\": \"ordinary\",\n                    \"draggable\": true,\n                    \"itemStyle\": {\n                        \"color\": \"#789704\"\n                    },\n                    \"label\": {\n                        \"show\": false\n                    },\n                    \"value\": 0.42\n                },\n                {\n                    \"name\": \"Der Postillon\",\n                    \"symbol\": \"rect\",\n                    \"symbolSize\": 7.222222222222222,\n                    \"categorie\": \"ordinary\",\n                    \"draggable\": true,\n                    \"itemStyle\": {\n                        \"color\": \"#789704\"\n                    },\n                    \"label\": {\n                        \"show\": false\n                    },\n                    \"value\": 0.72\n                },\n                {\n                    \"name\": \"Tobse\",\n                    \"symbol\": \"rect\",\n                    \"symbolSize\": 8.055555555555555,\n                    \"categorie\": \"ordinary\",\n                    \"draggable\": true,\n                    \"itemStyle\": {\n                        \"color\": \"#789704\"\n                    },\n                    \"label\": {\n                        \"show\": true\n                    },\n                    \"value\": 0.81\n                },\n                {\n                    \"name\": \"Schdegie.\",\n                    \"symbol\": \"rect\",\n                    \"symbolSize\": 7.5,\n                    \"categorie\": \"ordinary\",\n                    \"draggable\": true,\n                    \"itemStyle\": {\n                        \"color\": \"#789704\"\n                    },\n                    \"label\": {\n                        \"show\": true\n                    },\n                    \"value\": 0.75\n                },\n                {\n                    \"name\": \"L. Duy Pham\",\n                    \"symbol\": \"rect\",\n                    \"symbolSize\": 2.2222222222222223,\n                    \"categorie\": \"ordinary\",\n                    \"draggable\": true,\n                    \"itemStyle\": {\n                        \"color\": \"#789704\"\n                    },\n                    \"label\": {\n                        \"show\": false\n                    },\n                    \"value\": 0.22\n                },\n                {\n                    \"name\": \"TheMinnieTheMouse\",\n                    \"symbol\": \"rect\",\n                    \"symbolSize\": 6.111111111111111,\n                    \"categorie\": \"ordinary\",\n                    \"draggable\": true,\n                    \"itemStyle\": {\n                        \"color\": \"#789704\"\n                    },\n                    \"label\": {\n                        \"show\": false\n                    },\n                    \"value\": 0.61\n                },\n                {\n                    \"name\": \"Barack Obama\",\n                    \"symbol\": \"rect\",\n                    \"symbolSize\": 2.5,\n                    \"categorie\": \"ordinary\",\n                    \"draggable\": true,\n                    \"itemStyle\": {\n                        \"color\": \"#789704\"\n                    },\n                    \"label\": {\n                        \"show\": false\n                    },\n                    \"value\": 0.25\n                },\n                {\n                    \"name\": \"Elon Musk\",\n                    \"symbol\": \"rect\",\n                    \"symbolSize\": 4.444444444444445,\n                    \"categorie\": \"ordinary\",\n                    \"draggable\": true,\n                    \"itemStyle\": {\n                        \"color\": \"#789704\"\n                    },\n                    \"label\": {\n                        \"show\": false\n                    },\n                    \"value\": 0.44\n                },\n                {\n                    \"name\": \"ESL\",\n                    \"symbol\": \"rect\",\n                    \"symbolSize\": 2.2222222222222223,\n                    \"categorie\": \"ordinary\",\n                    \"draggable\": true,\n                    \"itemStyle\": {\n                        \"color\": \"#789704\"\n                    },\n                    \"label\": {\n                        \"show\": false\n                    },\n                    \"value\": 0.22\n                },\n                {\n                    \"name\": \"INA HOUT\",\n                    \"symbol\": \"rect\",\n                    \"symbolSize\": 3.8888888888888884,\n                    \"categorie\": \"ordinary\",\n                    \"draggable\": true,\n                    \"itemStyle\": {\n                        \"color\": \"#789704\"\n                    },\n                    \"label\": {\n                        \"show\": false\n                    },\n                    \"value\": 0.39\n                },\n                {\n                    \"name\": \"ZDF heute-show\",\n                    \"symbol\": \"rect\",\n                    \"symbolSize\": 5.0,\n                    \"categorie\": \"ordinary\",\n                    \"draggable\": true,\n                    \"itemStyle\": {\n                        \"color\": \"#789704\"\n                    },\n                    \"label\": {\n                        \"show\": false\n                    },\n                    \"value\": 0.5\n                },\n                {\n                    \"name\": \"Joyce\",\n                    \"symbol\": \"rect\",\n                    \"symbolSize\": 0.8333333333333333,\n                    \"categorie\": \"ordinary\",\n                    \"draggable\": true,\n                    \"itemStyle\": {\n                        \"color\": \"#789704\"\n                    },\n                    \"label\": {\n                        \"show\": false\n                    },\n                    \"value\": 0.08\n                },\n                {\n                    \"name\": \"Let'sPlayBros\",\n                    \"symbol\": \"rect\",\n                    \"symbolSize\": 0.2777777777777778,\n                    \"categorie\": \"ordinary\",\n                    \"draggable\": true,\n                    \"itemStyle\": {\n                        \"color\": \"#789704\"\n                    },\n                    \"label\": {\n                        \"show\": false\n                    },\n                    \"value\": 0.03\n                }\n            ],\n            \"edgeLabel\": {\n                \"show\": false,\n                \"position\": \"top\",\n                \"margin\": 8\n            },\n            \"edgeSymbol\": [\n                null,\n                null\n            ],\n            \"edgeSymbolSize\": 10,\n            \"links\": [\n                {\n                    \"source\": \"Diana Ivanova\",\n                    \"target\": \"Berlin4Future #BidenForParis\",\n                    \"value\": 2\n                },\n                {\n                    \"source\": \"Diana Ivanova\",\n                    \"target\": \"Marie von den Benken\",\n                    \"value\": 2\n                },\n                {\n                    \"source\": \"Diana Ivanova\",\n                    \"target\": \"Mai Thi Nguyen-Kim\",\n                    \"value\": 4\n                },\n                {\n                    \"source\": \"Diana Ivanova\",\n                    \"target\": \"Tommi Schmitt\",\n                    \"value\": 2\n                },\n                {\n                    \"source\": \"Diana Ivanova\",\n                    \"target\": \"Scientists for Future\",\n                    \"value\": 11\n                },\n                {\n                    \"source\": \"Diana Ivanova\",\n                    \"target\": \"Luisa Neubauer\",\n                    \"value\": 20\n                },\n                {\n                    \"source\": \"Diana Ivanova\",\n                    \"target\": \"DevelopersForFuture  #WeVsClimateCrisis\",\n                    \"value\": 6\n                },\n                {\n                    \"source\": \"Diana Ivanova\",\n                    \"target\": \"Rezo\",\n                    \"value\": 2\n                },\n                {\n                    \"source\": \"Diana Ivanova\",\n                    \"target\": \"Ende Gelnde\",\n                    \"value\": 10\n                },\n                {\n                    \"source\": \"Diana Ivanova\",\n                    \"target\": \"Karl Lauterbach\",\n                    \"value\": 3\n                },\n                {\n                    \"source\": \"Diana Ivanova\",\n                    \"target\": \"Fridays For Future Germany\",\n                    \"value\": 15\n                },\n                {\n                    \"source\": \"Diana Ivanova\",\n                    \"target\": \"Nico Semsrott\",\n                    \"value\": 3\n                },\n                {\n                    \"source\": \"Diana Ivanova\",\n                    \"target\": \"Fabian Kster\",\n                    \"value\": 2\n                },\n                {\n                    \"source\": \"Diana Ivanova\",\n                    \"target\": \"Hazel Brugger\",\n                    \"value\": 1\n                },\n                {\n                    \"source\": \"Diana Ivanova\",\n                    \"target\": \"Volksverpetzer\",\n                    \"value\": 3\n                },\n                {\n                    \"source\": \"Diana Ivanova\",\n                    \"target\": \"Bill Gates\",\n                    \"value\": 2\n                },\n                {\n                    \"source\": \"Diana Ivanova\",\n                    \"target\": \"Ole\",\n                    \"value\": 3\n                },\n                {\n                    \"source\": \"Diana Ivanova\",\n                    \"target\": \"teresa bcker\",\n                    \"value\": 5\n                },\n                {\n                    \"source\": \"Diana Ivanova\",\n                    \"target\": \"extra3\",\n                    \"value\": 4\n                },\n                {\n                    \"source\": \"Berlin4Future #BidenForParis\",\n                    \"target\": \"Marie von den Benken\",\n                    \"value\": 6\n                },\n                {\n                    \"source\": \"Berlin4Future #BidenForParis\",\n                    \"target\": \"Mai Thi Nguyen-Kim\",\n                    \"value\": 40\n                },\n                {\n                    \"source\": \"Berlin4Future #BidenForParis\",\n                    \"target\": \"Juju\",\n                    \"value\": 1\n                },\n                {\n                    \"source\": \"Berlin4Future #BidenForParis\",\n                    \"target\": \"Tommi Schmitt\",\n                    \"value\": 22\n                },\n                {\n                    \"source\": \"Berlin4Future #BidenForParis\",\n                    \"target\": \"Felix Lobrecht\",\n                    \"value\": 6\n                },\n                {\n                    \"source\": \"Berlin4Future #BidenForParis\",\n                    \"target\": \"Till Reiners\",\n                    \"value\": 5\n                },\n                {\n                    \"source\": \"Berlin4Future #BidenForParis\",\n                    \"target\": \"Scientists for Future\",\n                    \"value\": 122\n                },\n                {\n                    \"source\": \"Berlin4Future #BidenForParis\",\n                    \"target\": \"Luisa Neubauer\",\n                    \"value\": 152\n                },\n                {\n                    \"source\": \"Berlin4Future #BidenForParis\",\n                    \"target\": \"DevelopersForFuture  #WeVsClimateCrisis\",\n                    \"value\": 243\n                },\n                {\n                    \"source\": \"Berlin4Future #BidenForParis\",\n                    \"target\": \"Rezo\",\n                    \"value\": 29\n                },\n                {\n                    \"source\": \"Berlin4Future #BidenForParis\",\n                    \"target\": \"Ende Gelnde\",\n                    \"value\": 211\n                },\n                {\n                    \"source\": \"Berlin4Future #BidenForParis\",\n                    \"target\": \"Karl Lauterbach\",\n                    \"value\": 22\n                },\n                {\n                    \"source\": \"Berlin4Future #BidenForParis\",\n                    \"target\": \"Fridays For Future Germany\",\n                    \"value\": 300\n                },\n                {\n                    \"source\": \"Berlin4Future #BidenForParis\",\n                    \"target\": \"Nico Semsrott\",\n                    \"value\": 16\n                },\n                {\n                    \"source\": \"Berlin4Future #BidenForParis\",\n                    \"target\": \"Fabian Kster\",\n                    \"value\": 20\n                },\n                {\n                    \"source\": \"Berlin4Future #BidenForParis\",\n                    \"target\": \"Hazel Brugger\",\n                    \"value\": 3\n                },\n                {\n                    \"source\": \"Berlin4Future #BidenForParis\",\n                    \"target\": \"Volksverpetzer\",\n                    \"value\": 46\n                },\n                {\n                    \"source\": \"Berlin4Future #BidenForParis\",\n                    \"target\": \"Ole\",\n                    \"value\": 22\n                },\n                {\n                    \"source\": \"Berlin4Future #BidenForParis\",\n                    \"target\": \"teresa bcker\",\n                    \"value\": 44\n                },\n                {\n                    \"source\": \"Berlin4Future #BidenForParis\",\n                    \"target\": \"erzaehlmirnix\",\n                    \"value\": 2\n                },\n                {\n                    \"source\": \"Berlin4Future #BidenForParis\",\n                    \"target\": \"Sven Stueven\",\n                    \"value\": 1\n                },\n                {\n                    \"source\": \"Berlin4Future #BidenForParis\",\n                    \"target\": \"Der Postillon\",\n                    \"value\": 14\n                },\n                {\n                    \"source\": \"Berlin4Future #BidenForParis\",\n                    \"target\": \"extra3\",\n                    \"value\": 61\n                },\n                {\n                    \"source\": \"Berlin4Future #BidenForParis\",\n                    \"target\": \"Tobse\",\n                    \"value\": 4\n                },\n                {\n                    \"source\": \"Berlin4Future #BidenForParis\",\n                    \"target\": \"Schdegie.\",\n                    \"value\": 3\n                },\n                {\n                    \"source\": \"Berlin4Future #BidenForParis\",\n                    \"target\": \"L. Duy Pham\",\n                    \"value\": 1\n                },\n                {\n                    \"source\": \"Marie von den Benken\",\n                    \"target\": \"Mai Thi Nguyen-Kim\",\n                    \"value\": 16\n                },\n                {\n                    \"source\": \"Marie von den Benken\",\n                    \"target\": \"Juju\",\n                    \"value\": 2\n                },\n                {\n                    \"source\": \"Marie von den Benken\",\n                    \"target\": \"Tommi Schmitt\",\n                    \"value\": 57\n                },\n                {\n                    \"source\": \"Marie von den Benken\",\n                    \"target\": \"Felix Lobrecht\",\n                    \"value\": 4\n                },\n                {\n                    \"source\": \"Marie von den Benken\",\n                    \"target\": \"Till Reiners\",\n                    \"value\": 1\n                },\n                {\n                    \"source\": \"Marie von den Benken\",\n                    \"target\": \"Scientists for Future\",\n                    \"value\": 5\n                },\n                {\n                    \"source\": \"Marie von den Benken\",\n                    \"target\": \"Luisa Neubauer\",\n                    \"value\": 27\n                },\n                {\n                    \"source\": \"Marie von den Benken\",\n                    \"target\": \"DevelopersForFuture  #WeVsClimateCrisis\",\n                    \"value\": 8\n                },\n                {\n                    \"source\": \"Marie von den Benken\",\n                    \"target\": \"Rezo\",\n                    \"value\": 19\n                },\n                {\n                    \"source\": \"Marie von den Benken\",\n                    \"target\": \"Ende Gelnde\",\n                    \"value\": 5\n                },\n                {\n                    \"source\": \"Marie von den Benken\",\n                    \"target\": \"Karl Lauterbach\",\n                    \"value\": 13\n                },\n                {\n                    \"source\": \"Marie von den Benken\",\n                    \"target\": \"Fridays For Future Germany\",\n                    \"value\": 14\n                },\n                {\n                    \"source\": \"Marie von den Benken\",\n                    \"target\": \"Nico Semsrott\",\n                    \"value\": 10\n                },\n                {\n                    \"source\": \"Marie von den Benken\",\n                    \"target\": \"Fabian Kster\",\n                    \"value\": 20\n                },\n                {\n                    \"source\": \"Marie von den Benken\",\n                    \"target\": \"Volksverpetzer\",\n                    \"value\": 23\n                },\n                {\n                    \"source\": \"Marie von den Benken\",\n                    \"target\": \"Ole\",\n                    \"value\": 8\n                },\n                {\n                    \"source\": \"Marie von den Benken\",\n                    \"target\": \"teresa bcker\",\n                    \"value\": 24\n                },\n                {\n                    \"source\": \"Marie von den Benken\",\n                    \"target\": \"Sven Stueven\",\n                    \"value\": 1\n                },\n                {\n                    \"source\": \"Marie von den Benken\",\n                    \"target\": \"Der Postillon\",\n                    \"value\": 12\n                },\n                {\n                    \"source\": \"Marie von den Benken\",\n                    \"target\": \"extra3\",\n                    \"value\": 48\n                },\n                {\n                    \"source\": \"Marie von den Benken\",\n                    \"target\": \"TheMinnieTheMouse\",\n                    \"value\": 1\n                },\n                {\n                    \"source\": \"Mai Thi Nguyen-Kim\",\n                    \"target\": \"Juju\",\n                    \"value\": 9\n                },\n                {\n                    \"source\": \"Mai Thi Nguyen-Kim\",\n                    \"target\": \"Tommi Schmitt\",\n                    \"value\": 115\n                },\n                {\n                    \"source\": \"Mai Thi Nguyen-Kim\",\n                    \"target\": \"Felix Lobrecht\",\n                    \"value\": 12\n                },\n                {\n                    \"source\": \"Mai Thi Nguyen-Kim\",\n                    \"target\": \"Till Reiners\",\n                    \"value\": 11\n                },\n                {\n                    \"source\": \"Mai Thi Nguyen-Kim\",\n                    \"target\": \"Scientists for Future\",\n                    \"value\": 89\n                },\n                {\n                    \"source\": \"Mai Thi Nguyen-Kim\",\n                    \"target\": \"Luisa Neubauer\",\n                    \"value\": 115\n                },\n                {\n                    \"source\": \"Mai Thi Nguyen-Kim\",\n                    \"target\": \"DevelopersForFuture  #WeVsClimateCrisis\",\n                    \"value\": 42\n                },\n                {\n                    \"source\": \"Mai Thi Nguyen-Kim\",\n                    \"target\": \"Rezo\",\n                    \"value\": 100\n                },\n                {\n                    \"source\": \"Mai Thi Nguyen-Kim\",\n                    \"target\": \"Ende Gelnde\",\n                    \"value\": 38\n                },\n                {\n                    \"source\": \"Mai Thi Nguyen-Kim\",\n                    \"target\": \"Karl Lauterbach\",\n                    \"value\": 65\n                },\n                {\n                    \"source\": \"Mai Thi Nguyen-Kim\",\n                    \"target\": \"Fridays For Future Germany\",\n                    \"value\": 71\n                },\n                {\n                    \"source\": \"Mai Thi Nguyen-Kim\",\n                    \"target\": \"Barack Obama\",\n                    \"value\": 1\n                },\n                {\n                    \"source\": \"Mai Thi Nguyen-Kim\",\n                    \"target\": \"Nico Semsrott\",\n                    \"value\": 49\n                },\n                {\n                    \"source\": \"Mai Thi Nguyen-Kim\",\n                    \"target\": \"Fabian Kster\",\n                    \"value\": 70\n                },\n                {\n                    \"source\": \"Mai Thi Nguyen-Kim\",\n                    \"target\": \"Hazel Brugger\",\n                    \"value\": 9\n                },\n                {\n                    \"source\": \"Mai Thi Nguyen-Kim\",\n                    \"target\": \"Volksverpetzer\",\n                    \"value\": 108\n                },\n                {\n                    \"source\": \"Mai Thi Nguyen-Kim\",\n                    \"target\": \"Bill Gates\",\n                    \"value\": 10\n                },\n                {\n                    \"source\": \"Mai Thi Nguyen-Kim\",\n                    \"target\": \"Elon Musk\",\n                    \"value\": 3\n                },\n                {\n                    \"source\": \"Mai Thi Nguyen-Kim\",\n                    \"target\": \"ESL\",\n                    \"value\": 1\n                },\n                {\n                    \"source\": \"Mai Thi Nguyen-Kim\",\n                    \"target\": \"Ole\",\n                    \"value\": 117\n                },\n                {\n                    \"source\": \"Mai Thi Nguyen-Kim\",\n                    \"target\": \"teresa bcker\",\n                    \"value\": 121\n                },\n                {\n                    \"source\": \"Mai Thi Nguyen-Kim\",\n                    \"target\": \"INA HOUT\",\n                    \"value\": 2\n                },\n                {\n                    \"source\": \"Mai Thi Nguyen-Kim\",\n                    \"target\": \"erzaehlmirnix\",\n                    \"value\": 7\n                },\n                {\n                    \"source\": \"Mai Thi Nguyen-Kim\",\n                    \"target\": \"Sven Stueven\",\n                    \"value\": 1\n                },\n                {\n                    \"source\": \"Mai Thi Nguyen-Kim\",\n                    \"target\": \"Der Postillon\",\n                    \"value\": 45\n                },\n                {\n                    \"source\": \"Mai Thi Nguyen-Kim\",\n                    \"target\": \"extra3\",\n                    \"value\": 213\n                },\n                {\n                    \"source\": \"Mai Thi Nguyen-Kim\",\n                    \"target\": \"ZDF heute-show\",\n                    \"value\": 10\n                },\n                {\n                    \"source\": \"Mai Thi Nguyen-Kim\",\n                    \"target\": \"TheMinnieTheMouse\",\n                    \"value\": 7\n                },\n                {\n                    \"source\": \"Mai Thi Nguyen-Kim\",\n                    \"target\": \"Tobse\",\n                    \"value\": 11\n                },\n                {\n                    \"source\": \"Mai Thi Nguyen-Kim\",\n                    \"target\": \"Schdegie.\",\n                    \"value\": 20\n                },\n                {\n                    \"source\": \"Juju\",\n                    \"target\": \"Tommi Schmitt\",\n                    \"value\": 17\n                },\n                {\n                    \"source\": \"Juju\",\n                    \"target\": \"Felix Lobrecht\",\n                    \"value\": 10\n                },\n                {\n                    \"source\": \"Juju\",\n                    \"target\": \"Scientists for Future\",\n                    \"value\": 1\n                },\n                {\n                    \"source\": \"Juju\",\n                    \"target\": \"Luisa Neubauer\",\n                    \"value\": 7\n                },\n                {\n                    \"source\": \"Juju\",\n                    \"target\": \"DevelopersForFuture  #WeVsClimateCrisis\",\n                    \"value\": 2\n                },\n                {\n                    \"source\": \"Juju\",\n                    \"target\": \"Rezo\",\n                    \"value\": 9\n                },\n                {\n                    \"source\": \"Juju\",\n                    \"target\": \"Ende Gelnde\",\n                    \"value\": 2\n                },\n                {\n                    \"source\": \"Juju\",\n                    \"target\": \"Karl Lauterbach\",\n                    \"value\": 2\n                },\n                {\n                    \"source\": \"Juju\",\n                    \"target\": \"Fridays For Future Germany\",\n                    \"value\": 2\n                },\n                {\n                    \"source\": \"Juju\",\n                    \"target\": \"Nico Semsrott\",\n                    \"value\": 3\n                },\n                {\n                    \"source\": \"Juju\",\n                    \"target\": \"Fabian Kster\",\n                    \"value\": 4\n                },\n                {\n                    \"source\": \"Juju\",\n                    \"target\": \"Hazel Brugger\",\n                    \"value\": 1\n                },\n                {\n                    \"source\": \"Juju\",\n                    \"target\": \"Volksverpetzer\",\n                    \"value\": 7\n                },\n                {\n                    \"source\": \"Juju\",\n                    \"target\": \"Elon Musk\",\n                    \"value\": 1\n                },\n                {\n                    \"source\": \"Juju\",\n                    \"target\": \"Ole\",\n                    \"value\": 13\n                },\n                {\n                    \"source\": \"Juju\",\n                    \"target\": \"teresa bcker\",\n                    \"value\": 3\n                },\n                {\n                    \"source\": \"Juju\",\n                    \"target\": \"INA HOUT\",\n                    \"value\": 5\n                },\n                {\n                    \"source\": \"Juju\",\n                    \"target\": \"erzaehlmirnix\",\n                    \"value\": 1\n                },\n                {\n                    \"source\": \"Juju\",\n                    \"target\": \"Der Postillon\",\n                    \"value\": 3\n                },\n                {\n                    \"source\": \"Juju\",\n                    \"target\": \"extra3\",\n                    \"value\": 20\n                },\n                {\n                    \"source\": \"Juju\",\n                    \"target\": \"TheMinnieTheMouse\",\n                    \"value\": 4\n                },\n                {\n                    \"source\": \"Juju\",\n                    \"target\": \"Schdegie.\",\n                    \"value\": 6\n                },\n                {\n                    \"source\": \"Tommi Schmitt\",\n                    \"target\": \"Felix Lobrecht\",\n                    \"value\": 25\n                },\n                {\n                    \"source\": \"Tommi Schmitt\",\n                    \"target\": \"Till Reiners\",\n                    \"value\": 22\n                },\n                {\n                    \"source\": \"Tommi Schmitt\",\n                    \"target\": \"Scientists for Future\",\n                    \"value\": 14\n                },\n                {\n                    \"source\": \"Tommi Schmitt\",\n                    \"target\": \"Luisa Neubauer\",\n                    \"value\": 106\n                },\n                {\n                    \"source\": \"Tommi Schmitt\",\n                    \"target\": \"DevelopersForFuture  #WeVsClimateCrisis\",\n                    \"value\": 22\n                },\n                {\n                    \"source\": \"Tommi Schmitt\",\n                    \"target\": \"Rezo\",\n                    \"value\": 61\n                },\n                {\n                    \"source\": \"Tommi Schmitt\",\n                    \"target\": \"Ende Gelnde\",\n                    \"value\": 16\n                },\n                {\n                    \"source\": \"Tommi Schmitt\",\n                    \"target\": \"Karl Lauterbach\",\n                    \"value\": 40\n                },\n                {\n                    \"source\": \"Tommi Schmitt\",\n                    \"target\": \"Fridays For Future Germany\",\n                    \"value\": 48\n                },\n                {\n                    \"source\": \"Tommi Schmitt\",\n                    \"target\": \"Nico Semsrott\",\n                    \"value\": 50\n                },\n                {\n                    \"source\": \"Tommi Schmitt\",\n                    \"target\": \"Fabian Kster\",\n                    \"value\": 114\n                },\n                {\n                    \"source\": \"Tommi Schmitt\",\n                    \"target\": \"Hazel Brugger\",\n                    \"value\": 15\n                },\n                {\n                    \"source\": \"Tommi Schmitt\",\n                    \"target\": \"Volksverpetzer\",\n                    \"value\": 93\n                },\n                {\n                    \"source\": \"Tommi Schmitt\",\n                    \"target\": \"Bill Gates\",\n                    \"value\": 3\n                },\n                {\n                    \"source\": \"Tommi Schmitt\",\n                    \"target\": \"ESL\",\n                    \"value\": 2\n                },\n                {\n                    \"source\": \"Tommi Schmitt\",\n                    \"target\": \"Ole\",\n                    \"value\": 93\n                },\n                {\n                    \"source\": \"Tommi Schmitt\",\n                    \"target\": \"teresa bcker\",\n                    \"value\": 79\n                },\n                {\n                    \"source\": \"Tommi Schmitt\",\n                    \"target\": \"INA HOUT\",\n                    \"value\": 4\n                },\n                {\n                    \"source\": \"Tommi Schmitt\",\n                    \"target\": \"erzaehlmirnix\",\n                    \"value\": 10\n                },\n                {\n                    \"source\": \"Tommi Schmitt\",\n                    \"target\": \"Sven Stueven\",\n                    \"value\": 1\n                },\n                {\n                    \"source\": \"Tommi Schmitt\",\n                    \"target\": \"Der Postillon\",\n                    \"value\": 49\n                },\n                {\n                    \"source\": \"Tommi Schmitt\",\n                    \"target\": \"extra3\",\n                    \"value\": 274\n                },\n                {\n                    \"source\": \"Tommi Schmitt\",\n                    \"target\": \"ZDF heute-show\",\n                    \"value\": 11\n                },\n                {\n                    \"source\": \"Tommi Schmitt\",\n                    \"target\": \"TheMinnieTheMouse\",\n                    \"value\": 4\n                },\n                {\n                    \"source\": \"Tommi Schmitt\",\n                    \"target\": \"Tobse\",\n                    \"value\": 6\n                },\n                {\n                    \"source\": \"Tommi Schmitt\",\n                    \"target\": \"Schdegie.\",\n                    \"value\": 19\n                },\n                {\n                    \"source\": \"Felix Lobrecht\",\n                    \"target\": \"Till Reiners\",\n                    \"value\": 11\n                },\n                {\n                    \"source\": \"Felix Lobrecht\",\n                    \"target\": \"Scientists for Future\",\n                    \"value\": 4\n                },\n                {\n                    \"source\": \"Felix Lobrecht\",\n                    \"target\": \"Luisa Neubauer\",\n                    \"value\": 10\n                },\n                {\n                    \"source\": \"Felix Lobrecht\",\n                    \"target\": \"DevelopersForFuture  #WeVsClimateCrisis\",\n                    \"value\": 5\n                },\n                {\n                    \"source\": \"Felix Lobrecht\",\n                    \"target\": \"Rezo\",\n                    \"value\": 11\n                },\n                {\n                    \"source\": \"Felix Lobrecht\",\n                    \"target\": \"Ende Gelnde\",\n                    \"value\": 2\n                },\n                {\n                    \"source\": \"Felix Lobrecht\",\n                    \"target\": \"Karl Lauterbach\",\n                    \"value\": 5\n                },\n                {\n                    \"source\": \"Felix Lobrecht\",\n                    \"target\": \"Fridays For Future Germany\",\n                    \"value\": 5\n                },\n                {\n                    \"source\": \"Felix Lobrecht\",\n                    \"target\": \"Nico Semsrott\",\n                    \"value\": 11\n                },\n                {\n                    \"source\": \"Felix Lobrecht\",\n                    \"target\": \"Fabian Kster\",\n                    \"value\": 15\n                },\n                {\n                    \"source\": \"Felix Lobrecht\",\n                    \"target\": \"Hazel Brugger\",\n                    \"value\": 3\n                },\n                {\n                    \"source\": \"Felix Lobrecht\",\n                    \"target\": \"Volksverpetzer\",\n                    \"value\": 11\n                },\n                {\n                    \"source\": \"Felix Lobrecht\",\n                    \"target\": \"Elon Musk\",\n                    \"value\": 1\n                },\n                {\n                    \"source\": \"Felix Lobrecht\",\n                    \"target\": \"Ole\",\n                    \"value\": 9\n                },\n                {\n                    \"source\": \"Felix Lobrecht\",\n                    \"target\": \"teresa bcker\",\n                    \"value\": 10\n                },\n                {\n                    \"source\": \"Felix Lobrecht\",\n                    \"target\": \"erzaehlmirnix\",\n                    \"value\": 3\n                },\n                {\n                    \"source\": \"Felix Lobrecht\",\n                    \"target\": \"Der Postillon\",\n                    \"value\": 6\n                },\n                {\n                    \"source\": \"Felix Lobrecht\",\n                    \"target\": \"extra3\",\n                    \"value\": 18\n                },\n                {\n                    \"source\": \"Felix Lobrecht\",\n                    \"target\": \"ZDF heute-show\",\n                    \"value\": 1\n                },\n                {\n                    \"source\": \"Felix Lobrecht\",\n                    \"target\": \"TheMinnieTheMouse\",\n                    \"value\": 1\n                },\n                {\n                    \"source\": \"Felix Lobrecht\",\n                    \"target\": \"Tobse\",\n                    \"value\": 2\n                },\n                {\n                    \"source\": \"Felix Lobrecht\",\n                    \"target\": \"Schdegie.\",\n                    \"value\": 2\n                },\n                {\n                    \"source\": \"Till Reiners\",\n                    \"target\": \"Scientists for Future\",\n                    \"value\": 2\n                },\n                {\n                    \"source\": \"Till Reiners\",\n                    \"target\": \"Luisa Neubauer\",\n                    \"value\": 15\n                },\n                {\n                    \"source\": \"Till Reiners\",\n                    \"target\": \"DevelopersForFuture  #WeVsClimateCrisis\",\n                    \"value\": 4\n                },\n                {\n                    \"source\": \"Till Reiners\",\n                    \"target\": \"Rezo\",\n                    \"value\": 9\n                },\n                {\n                    \"source\": \"Till Reiners\",\n                    \"target\": \"Ende Gelnde\",\n                    \"value\": 4\n                },\n                {\n                    \"source\": \"Till Reiners\",\n                    \"target\": \"Karl Lauterbach\",\n                    \"value\": 7\n                },\n                {\n                    \"source\": \"Till Reiners\",\n                    \"target\": \"Fridays For Future Germany\",\n                    \"value\": 5\n                },\n                {\n                    \"source\": \"Till Reiners\",\n                    \"target\": \"Nico Semsrott\",\n                    \"value\": 15\n                },\n                {\n                    \"source\": \"Till Reiners\",\n                    \"target\": \"Fabian Kster\",\n                    \"value\": 14\n                },\n                {\n                    \"source\": \"Till Reiners\",\n                    \"target\": \"Hazel Brugger\",\n                    \"value\": 3\n                },\n                {\n                    \"source\": \"Till Reiners\",\n                    \"target\": \"Volksverpetzer\",\n                    \"value\": 10\n                },\n                {\n                    \"source\": \"Till Reiners\",\n                    \"target\": \"Ole\",\n                    \"value\": 10\n                },\n                {\n                    \"source\": \"Till Reiners\",\n                    \"target\": \"teresa bcker\",\n                    \"value\": 10\n                },\n                {\n                    \"source\": \"Till Reiners\",\n                    \"target\": \"erzaehlmirnix\",\n                    \"value\": 1\n                },\n                {\n                    \"source\": \"Till Reiners\",\n                    \"target\": \"Der Postillon\",\n                    \"value\": 6\n                },\n                {\n                    \"source\": \"Till Reiners\",\n                    \"target\": \"extra3\",\n                    \"value\": 22\n                },\n                {\n                    \"source\": \"Till Reiners\",\n                    \"target\": \"ZDF heute-show\",\n                    \"value\": 2\n                },\n                {\n                    \"source\": \"Till Reiners\",\n                    \"target\": \"TheMinnieTheMouse\",\n                    \"value\": 1\n                },\n                {\n                    \"source\": \"Till Reiners\",\n                    \"target\": \"Schdegie.\",\n                    \"value\": 3\n                },\n                {\n                    \"source\": \"Scientists for Future\",\n                    \"target\": \"Luisa Neubauer\",\n                    \"value\": 96\n                },\n                {\n                    \"source\": \"Scientists for Future\",\n                    \"target\": \"DevelopersForFuture  #WeVsClimateCrisis\",\n                    \"value\": 72\n                },\n                {\n                    \"source\": \"Scientists for Future\",\n                    \"target\": \"Rezo\",\n                    \"value\": 21\n                },\n                {\n                    \"source\": \"Scientists for Future\",\n                    \"target\": \"Ende Gelnde\",\n                    \"value\": 68\n                },\n                {\n                    \"source\": \"Scientists for Future\",\n                    \"target\": \"Karl Lauterbach\",\n                    \"value\": 28\n                },\n                {\n                    \"source\": \"Scientists for Future\",\n                    \"target\": \"Fridays For Future Germany\",\n                    \"value\": 100\n                },\n                {\n                    \"source\": \"Scientists for Future\",\n                    \"target\": \"Nico Semsrott\",\n                    \"value\": 10\n                },\n                {\n                    \"source\": \"Scientists for Future\",\n                    \"target\": \"Fabian Kster\",\n                    \"value\": 14\n                },\n                {\n                    \"source\": \"Scientists for Future\",\n                    \"target\": \"Hazel Brugger\",\n                    \"value\": 3\n                },\n                {\n                    \"source\": \"Scientists for Future\",\n                    \"target\": \"Volksverpetzer\",\n                    \"value\": 35\n                },\n                {\n                    \"source\": \"Scientists for Future\",\n                    \"target\": \"Elon Musk\",\n                    \"value\": 1\n                },\n                {\n                    \"source\": \"Scientists for Future\",\n                    \"target\": \"Ole\",\n                    \"value\": 20\n                },\n                {\n                    \"source\": \"Scientists for Future\",\n                    \"target\": \"teresa bcker\",\n                    \"value\": 43\n                },\n                {\n                    \"source\": \"Scientists for Future\",\n                    \"target\": \"erzaehlmirnix\",\n                    \"value\": 2\n                },\n                {\n                    \"source\": \"Scientists for Future\",\n                    \"target\": \"Der Postillon\",\n                    \"value\": 14\n                },\n                {\n                    \"source\": \"Scientists for Future\",\n                    \"target\": \"extra3\",\n                    \"value\": 35\n                },\n                {\n                    \"source\": \"Scientists for Future\",\n                    \"target\": \"ZDF heute-show\",\n                    \"value\": 1\n                },\n                {\n                    \"source\": \"Scientists for Future\",\n                    \"target\": \"Tobse\",\n                    \"value\": 2\n                },\n                {\n                    \"source\": \"Scientists for Future\",\n                    \"target\": \"Schdegie.\",\n                    \"value\": 2\n                },\n                {\n                    \"source\": \"Luisa Neubauer\",\n                    \"target\": \"DevelopersForFuture  #WeVsClimateCrisis\",\n                    \"value\": 131\n                },\n                {\n                    \"source\": \"Luisa Neubauer\",\n                    \"target\": \"Rezo\",\n                    \"value\": 85\n                },\n                {\n                    \"source\": \"Luisa Neubauer\",\n                    \"target\": \"Ende Gelnde\",\n                    \"value\": 174\n                },\n                {\n                    \"source\": \"Luisa Neubauer\",\n                    \"target\": \"Karl Lauterbach\",\n                    \"value\": 88\n                },\n                {\n                    \"source\": \"Luisa Neubauer\",\n                    \"target\": \"Fridays For Future Germany\",\n                    \"value\": 314\n                },\n                {\n                    \"source\": \"Luisa Neubauer\",\n                    \"target\": \"Barack Obama\",\n                    \"value\": 5\n                },\n                {\n                    \"source\": \"Luisa Neubauer\",\n                    \"target\": \"Nico Semsrott\",\n                    \"value\": 57\n                },\n                {\n                    \"source\": \"Luisa Neubauer\",\n                    \"target\": \"Fabian Kster\",\n                    \"value\": 101\n                },\n                {\n                    \"source\": \"Luisa Neubauer\",\n                    \"target\": \"Hazel Brugger\",\n                    \"value\": 11\n                },\n                {\n                    \"source\": \"Luisa Neubauer\",\n                    \"target\": \"Volksverpetzer\",\n                    \"value\": 152\n                },\n                {\n                    \"source\": \"Luisa Neubauer\",\n                    \"target\": \"Bill Gates\",\n                    \"value\": 13\n                },\n                {\n                    \"source\": \"Luisa Neubauer\",\n                    \"target\": \"Elon Musk\",\n                    \"value\": 3\n                },\n                {\n                    \"source\": \"Luisa Neubauer\",\n                    \"target\": \"Ole\",\n                    \"value\": 83\n                },\n                {\n                    \"source\": \"Luisa Neubauer\",\n                    \"target\": \"teresa bcker\",\n                    \"value\": 152\n                },\n                {\n                    \"source\": \"Luisa Neubauer\",\n                    \"target\": \"INA HOUT\",\n                    \"value\": 6\n                },\n                {\n                    \"source\": \"Luisa Neubauer\",\n                    \"target\": \"erzaehlmirnix\",\n                    \"value\": 6\n                },\n                {\n                    \"source\": \"Luisa Neubauer\",\n                    \"target\": \"Sven Stueven\",\n                    \"value\": 2\n                },\n                {\n                    \"source\": \"Luisa Neubauer\",\n                    \"target\": \"Der Postillon\",\n                    \"value\": 45\n                },\n                {\n                    \"source\": \"Luisa Neubauer\",\n                    \"target\": \"extra3\",\n                    \"value\": 293\n                },\n                {\n                    \"source\": \"Luisa Neubauer\",\n                    \"target\": \"ZDF heute-show\",\n                    \"value\": 7\n                },\n                {\n                    \"source\": \"Luisa Neubauer\",\n                    \"target\": \"TheMinnieTheMouse\",\n                    \"value\": 8\n                },\n                {\n                    \"source\": \"Luisa Neubauer\",\n                    \"target\": \"Tobse\",\n                    \"value\": 12\n                },\n                {\n                    \"source\": \"Luisa Neubauer\",\n                    \"target\": \"Schdegie.\",\n                    \"value\": 7\n                },\n                {\n                    \"source\": \"DevelopersForFuture  #WeVsClimateCrisis\",\n                    \"target\": \"Rezo\",\n                    \"value\": 29\n                },\n                {\n                    \"source\": \"DevelopersForFuture  #WeVsClimateCrisis\",\n                    \"target\": \"Ende Gelnde\",\n                    \"value\": 100\n                },\n                {\n                    \"source\": \"DevelopersForFuture  #WeVsClimateCrisis\",\n                    \"target\": \"Karl Lauterbach\",\n                    \"value\": 27\n                },\n                {\n                    \"source\": \"DevelopersForFuture  #WeVsClimateCrisis\",\n                    \"target\": \"Fridays For Future Germany\",\n                    \"value\": 235\n                },\n                {\n                    \"source\": \"DevelopersForFuture  #WeVsClimateCrisis\",\n                    \"target\": \"Nico Semsrott\",\n                    \"value\": 24\n                },\n                {\n                    \"source\": \"DevelopersForFuture  #WeVsClimateCrisis\",\n                    \"target\": \"Fabian Kster\",\n                    \"value\": 26\n                },\n                {\n                    \"source\": \"DevelopersForFuture  #WeVsClimateCrisis\",\n                    \"target\": \"Hazel Brugger\",\n                    \"value\": 5\n                },\n                {\n                    \"source\": \"DevelopersForFuture  #WeVsClimateCrisis\",\n                    \"target\": \"Volksverpetzer\",\n                    \"value\": 46\n                },\n                {\n                    \"source\": \"DevelopersForFuture  #WeVsClimateCrisis\",\n                    \"target\": \"Bill Gates\",\n                    \"value\": 2\n                },\n                {\n                    \"source\": \"DevelopersForFuture  #WeVsClimateCrisis\",\n                    \"target\": \"Elon Musk\",\n                    \"value\": 1\n                },\n                {\n                    \"source\": \"DevelopersForFuture  #WeVsClimateCrisis\",\n                    \"target\": \"Ole\",\n                    \"value\": 29\n                },\n                {\n                    \"source\": \"DevelopersForFuture  #WeVsClimateCrisis\",\n                    \"target\": \"teresa bcker\",\n                    \"value\": 32\n                },\n                {\n                    \"source\": \"DevelopersForFuture  #WeVsClimateCrisis\",\n                    \"target\": \"INA HOUT\",\n                    \"value\": 1\n                },\n                {\n                    \"source\": \"DevelopersForFuture  #WeVsClimateCrisis\",\n                    \"target\": \"erzaehlmirnix\",\n                    \"value\": 3\n                },\n                {\n                    \"source\": \"DevelopersForFuture  #WeVsClimateCrisis\",\n                    \"target\": \"Sven Stueven\",\n                    \"value\": 1\n                },\n                {\n                    \"source\": \"DevelopersForFuture  #WeVsClimateCrisis\",\n                    \"target\": \"Der Postillon\",\n                    \"value\": 24\n                },\n                {\n                    \"source\": \"DevelopersForFuture  #WeVsClimateCrisis\",\n                    \"target\": \"extra3\",\n                    \"value\": 53\n                },\n                {\n                    \"source\": \"DevelopersForFuture  #WeVsClimateCrisis\",\n                    \"target\": \"ZDF heute-show\",\n                    \"value\": 2\n                },\n                {\n                    \"source\": \"DevelopersForFuture  #WeVsClimateCrisis\",\n                    \"target\": \"TheMinnieTheMouse\",\n                    \"value\": 1\n                },\n                {\n                    \"source\": \"DevelopersForFuture  #WeVsClimateCrisis\",\n                    \"target\": \"Tobse\",\n                    \"value\": 5\n                },\n                {\n                    \"source\": \"DevelopersForFuture  #WeVsClimateCrisis\",\n                    \"target\": \"Schdegie.\",\n                    \"value\": 4\n                },\n                {\n                    \"source\": \"Rezo\",\n                    \"target\": \"Ende Gelnde\",\n                    \"value\": 24\n                },\n                {\n                    \"source\": \"Rezo\",\n                    \"target\": \"Karl Lauterbach\",\n                    \"value\": 33\n                },\n                {\n                    \"source\": \"Rezo\",\n                    \"target\": \"Fridays For Future Germany\",\n                    \"value\": 46\n                },\n                {\n                    \"source\": \"Rezo\",\n                    \"target\": \"Nico Semsrott\",\n                    \"value\": 34\n                },\n                {\n                    \"source\": \"Rezo\",\n                    \"target\": \"Fabian Kster\",\n                    \"value\": 48\n                },\n                {\n                    \"source\": \"Rezo\",\n                    \"target\": \"Hazel Brugger\",\n                    \"value\": 3\n                },\n                {\n                    \"source\": \"Rezo\",\n                    \"target\": \"Volksverpetzer\",\n                    \"value\": 79\n                },\n                {\n                    \"source\": \"Rezo\",\n                    \"target\": \"Elon Musk\",\n                    \"value\": 1\n                },\n                {\n                    \"source\": \"Rezo\",\n                    \"target\": \"ESL\",\n                    \"value\": 2\n                },\n                {\n                    \"source\": \"Rezo\",\n                    \"target\": \"Ole\",\n                    \"value\": 92\n                },\n                {\n                    \"source\": \"Rezo\",\n                    \"target\": \"teresa bcker\",\n                    \"value\": 67\n                },\n                {\n                    \"source\": \"Rezo\",\n                    \"target\": \"erzaehlmirnix\",\n                    \"value\": 3\n                },\n                {\n                    \"source\": \"Rezo\",\n                    \"target\": \"Sven Stueven\",\n                    \"value\": 1\n                },\n                {\n                    \"source\": \"Rezo\",\n                    \"target\": \"Der Postillon\",\n                    \"value\": 35\n                },\n                {\n                    \"source\": \"Rezo\",\n                    \"target\": \"extra3\",\n                    \"value\": 128\n                },\n                {\n                    \"source\": \"Rezo\",\n                    \"target\": \"ZDF heute-show\",\n                    \"value\": 2\n                },\n                {\n                    \"source\": \"Rezo\",\n                    \"target\": \"TheMinnieTheMouse\",\n                    \"value\": 1\n                },\n                {\n                    \"source\": \"Rezo\",\n                    \"target\": \"Tobse\",\n                    \"value\": 14\n                },\n                {\n                    \"source\": \"Rezo\",\n                    \"target\": \"Schdegie.\",\n                    \"value\": 67\n                },\n                {\n                    \"source\": \"Rezo\",\n                    \"target\": \"L. Duy Pham\",\n                    \"value\": 1\n                },\n                {\n                    \"source\": \"Rezo\",\n                    \"target\": \"Joyce\",\n                    \"value\": 1\n                },\n                {\n                    \"source\": \"Ende Gelnde\",\n                    \"target\": \"Karl Lauterbach\",\n                    \"value\": 26\n                },\n                {\n                    \"source\": \"Ende Gelnde\",\n                    \"target\": \"Fridays For Future Germany\",\n                    \"value\": 215\n                },\n                {\n                    \"source\": \"Ende Gelnde\",\n                    \"target\": \"Nico Semsrott\",\n                    \"value\": 18\n                },\n                {\n                    \"source\": \"Ende Gelnde\",\n                    \"target\": \"Fabian Kster\",\n                    \"value\": 17\n                },\n                {\n                    \"source\": \"Ende Gelnde\",\n                    \"target\": \"Hazel Brugger\",\n                    \"value\": 3\n                },\n                {\n                    \"source\": \"Ende Gelnde\",\n                    \"target\": \"Volksverpetzer\",\n                    \"value\": 66\n                },\n                {\n                    \"source\": \"Ende Gelnde\",\n                    \"target\": \"Elon Musk\",\n                    \"value\": 1\n                },\n                {\n                    \"source\": \"Ende Gelnde\",\n                    \"target\": \"Ole\",\n                    \"value\": 21\n                },\n                {\n                    \"source\": \"Ende Gelnde\",\n                    \"target\": \"teresa bcker\",\n                    \"value\": 59\n                },\n                {\n                    \"source\": \"Ende Gelnde\",\n                    \"target\": \"erzaehlmirnix\",\n                    \"value\": 1\n                },\n                {\n                    \"source\": \"Ende Gelnde\",\n                    \"target\": \"Der Postillon\",\n                    \"value\": 16\n                },\n                {\n                    \"source\": \"Ende Gelnde\",\n                    \"target\": \"extra3\",\n                    \"value\": 80\n                },\n                {\n                    \"source\": \"Ende Gelnde\",\n                    \"target\": \"Tobse\",\n                    \"value\": 2\n                },\n                {\n                    \"source\": \"Ende Gelnde\",\n                    \"target\": \"Schdegie.\",\n                    \"value\": 1\n                },\n                {\n                    \"source\": \"Karl Lauterbach\",\n                    \"target\": \"Fridays For Future Germany\",\n                    \"value\": 55\n                },\n                {\n                    \"source\": \"Karl Lauterbach\",\n                    \"target\": \"Nico Semsrott\",\n                    \"value\": 11\n                },\n                {\n                    \"source\": \"Karl Lauterbach\",\n                    \"target\": \"Fabian Kster\",\n                    \"value\": 45\n                },\n                {\n                    \"source\": \"Karl Lauterbach\",\n                    \"target\": \"Hazel Brugger\",\n                    \"value\": 5\n                },\n                {\n                    \"source\": \"Karl Lauterbach\",\n                    \"target\": \"Volksverpetzer\",\n                    \"value\": 53\n                },\n                {\n                    \"source\": \"Karl Lauterbach\",\n                    \"target\": \"Bill Gates\",\n                    \"value\": 3\n                },\n                {\n                    \"source\": \"Karl Lauterbach\",\n                    \"target\": \"Elon Musk\",\n                    \"value\": 2\n                },\n                {\n                    \"source\": \"Karl Lauterbach\",\n                    \"target\": \"Ole\",\n                    \"value\": 34\n                },\n                {\n                    \"source\": \"Karl Lauterbach\",\n                    \"target\": \"teresa bcker\",\n                    \"value\": 56\n                },\n                {\n                    \"source\": \"Karl Lauterbach\",\n                    \"target\": \"INA HOUT\",\n                    \"value\": 1\n                },\n                {\n                    \"source\": \"Karl Lauterbach\",\n                    \"target\": \"erzaehlmirnix\",\n                    \"value\": 1\n                },\n                {\n                    \"source\": \"Karl Lauterbach\",\n                    \"target\": \"Der Postillon\",\n                    \"value\": 15\n                },\n                {\n                    \"source\": \"Karl Lauterbach\",\n                    \"target\": \"extra3\",\n                    \"value\": 141\n                },\n                {\n                    \"source\": \"Karl Lauterbach\",\n                    \"target\": \"ZDF heute-show\",\n                    \"value\": 3\n                },\n                {\n                    \"source\": \"Karl Lauterbach\",\n                    \"target\": \"TheMinnieTheMouse\",\n                    \"value\": 1\n                },\n                {\n                    \"source\": \"Karl Lauterbach\",\n                    \"target\": \"Tobse\",\n                    \"value\": 8\n                },\n                {\n                    \"source\": \"Karl Lauterbach\",\n                    \"target\": \"Schdegie.\",\n                    \"value\": 1\n                },\n                {\n                    \"source\": \"Fridays For Future Germany\",\n                    \"target\": \"Nico Semsrott\",\n                    \"value\": 26\n                },\n                {\n                    \"source\": \"Fridays For Future Germany\",\n                    \"target\": \"Fabian Kster\",\n                    \"value\": 52\n                },\n                {\n                    \"source\": \"Fridays For Future Germany\",\n                    \"target\": \"Hazel Brugger\",\n                    \"value\": 7\n                },\n                {\n                    \"source\": \"Fridays For Future Germany\",\n                    \"target\": \"Volksverpetzer\",\n                    \"value\": 89\n                },\n                {\n                    \"source\": \"Fridays For Future Germany\",\n                    \"target\": \"Bill Gates\",\n                    \"value\": 6\n                },\n                {\n                    \"source\": \"Fridays For Future Germany\",\n                    \"target\": \"Elon Musk\",\n                    \"value\": 2\n                },\n                {\n                    \"source\": \"Fridays For Future Germany\",\n                    \"target\": \"Ole\",\n                    \"value\": 48\n                },\n                {\n                    \"source\": \"Fridays For Future Germany\",\n                    \"target\": \"teresa bcker\",\n                    \"value\": 65\n                },\n                {\n                    \"source\": \"Fridays For Future Germany\",\n                    \"target\": \"INA HOUT\",\n                    \"value\": 1\n                },\n                {\n                    \"source\": \"Fridays For Future Germany\",\n                    \"target\": \"erzaehlmirnix\",\n                    \"value\": 1\n                },\n                {\n                    \"source\": \"Fridays For Future Germany\",\n                    \"target\": \"Der Postillon\",\n                    \"value\": 34\n                },\n                {\n                    \"source\": \"Fridays For Future Germany\",\n                    \"target\": \"extra3\",\n                    \"value\": 143\n                },\n                {\n                    \"source\": \"Fridays For Future Germany\",\n                    \"target\": \"ZDF heute-show\",\n                    \"value\": 3\n                },\n                {\n                    \"source\": \"Fridays For Future Germany\",\n                    \"target\": \"TheMinnieTheMouse\",\n                    \"value\": 2\n                },\n                {\n                    \"source\": \"Fridays For Future Germany\",\n                    \"target\": \"Tobse\",\n                    \"value\": 7\n                },\n                {\n                    \"source\": \"Fridays For Future Germany\",\n                    \"target\": \"Schdegie.\",\n                    \"value\": 5\n                },\n                {\n                    \"source\": \"Barack Obama\",\n                    \"target\": \"Fabian Kster\",\n                    \"value\": 1\n                },\n                {\n                    \"source\": \"Barack Obama\",\n                    \"target\": \"Bill Gates\",\n                    \"value\": 5\n                },\n                {\n                    \"source\": \"Barack Obama\",\n                    \"target\": \"Ole\",\n                    \"value\": 1\n                },\n                {\n                    \"source\": \"Barack Obama\",\n                    \"target\": \"teresa bcker\",\n                    \"value\": 1\n                },\n                {\n                    \"source\": \"Barack Obama\",\n                    \"target\": \"extra3\",\n                    \"value\": 7\n                },\n                {\n                    \"source\": \"Barack Obama\",\n                    \"target\": \"TheMinnieTheMouse\",\n                    \"value\": 2\n                },\n                {\n                    \"source\": \"Barack Obama\",\n                    \"target\": \"Tobse\",\n                    \"value\": 1\n                },\n                {\n                    \"source\": \"Nico Semsrott\",\n                    \"target\": \"Fabian Kster\",\n                    \"value\": 40\n                },\n                {\n                    \"source\": \"Nico Semsrott\",\n                    \"target\": \"Hazel Brugger\",\n                    \"value\": 7\n                },\n                {\n                    \"source\": \"Nico Semsrott\",\n                    \"target\": \"Volksverpetzer\",\n                    \"value\": 63\n                },\n                {\n                    \"source\": \"Nico Semsrott\",\n                    \"target\": \"ESL\",\n                    \"value\": 1\n                },\n                {\n                    \"source\": \"Nico Semsrott\",\n                    \"target\": \"Ole\",\n                    \"value\": 27\n                },\n                {\n                    \"source\": \"Nico Semsrott\",\n                    \"target\": \"teresa bcker\",\n                    \"value\": 39\n                },\n                {\n                    \"source\": \"Nico Semsrott\",\n                    \"target\": \"erzaehlmirnix\",\n                    \"value\": 5\n                },\n                {\n                    \"source\": \"Nico Semsrott\",\n                    \"target\": \"Sven Stueven\",\n                    \"value\": 1\n                },\n                {\n                    \"source\": \"Nico Semsrott\",\n                    \"target\": \"Der Postillon\",\n                    \"value\": 26\n                },\n                {\n                    \"source\": \"Nico Semsrott\",\n                    \"target\": \"extra3\",\n                    \"value\": 78\n                },\n                {\n                    \"source\": \"Nico Semsrott\",\n                    \"target\": \"ZDF heute-show\",\n                    \"value\": 3\n                },\n                {\n                    \"source\": \"Nico Semsrott\",\n                    \"target\": \"TheMinnieTheMouse\",\n                    \"value\": 2\n                },\n                {\n                    \"source\": \"Nico Semsrott\",\n                    \"target\": \"Tobse\",\n                    \"value\": 4\n                },\n                {\n                    \"source\": \"Nico Semsrott\",\n                    \"target\": \"Schdegie.\",\n                    \"value\": 6\n                },\n                {\n                    \"source\": \"Fabian Kster\",\n                    \"target\": \"Hazel Brugger\",\n                    \"value\": 9\n                },\n                {\n                    \"source\": \"Fabian Kster\",\n                    \"target\": \"Volksverpetzer\",\n                    \"value\": 74\n                },\n                {\n                    \"source\": \"Fabian Kster\",\n                    \"target\": \"Bill Gates\",\n                    \"value\": 3\n                },\n                {\n                    \"source\": \"Fabian Kster\",\n                    \"target\": \"Ole\",\n                    \"value\": 54\n                },\n                {\n                    \"source\": \"Fabian Kster\",\n                    \"target\": \"teresa bcker\",\n                    \"value\": 50\n                },\n                {\n                    \"source\": \"Fabian Kster\",\n                    \"target\": \"INA HOUT\",\n                    \"value\": 1\n                },\n                {\n                    \"source\": \"Fabian Kster\",\n                    \"target\": \"erzaehlmirnix\",\n                    \"value\": 8\n                },\n                {\n                    \"source\": \"Fabian Kster\",\n                    \"target\": \"Der Postillon\",\n                    \"value\": 36\n                },\n                {\n                    \"source\": \"Fabian Kster\",\n                    \"target\": \"extra3\",\n                    \"value\": 152\n                },\n                {\n                    \"source\": \"Fabian Kster\",\n                    \"target\": \"ZDF heute-show\",\n                    \"value\": 6\n                },\n                {\n                    \"source\": \"Fabian Kster\",\n                    \"target\": \"TheMinnieTheMouse\",\n                    \"value\": 5\n                },\n                {\n                    \"source\": \"Fabian Kster\",\n                    \"target\": \"Tobse\",\n                    \"value\": 8\n                },\n                {\n                    \"source\": \"Fabian Kster\",\n                    \"target\": \"Schdegie.\",\n                    \"value\": 4\n                },\n                {\n                    \"source\": \"Hazel Brugger\",\n                    \"target\": \"Volksverpetzer\",\n                    \"value\": 6\n                },\n                {\n                    \"source\": \"Hazel Brugger\",\n                    \"target\": \"Bill Gates\",\n                    \"value\": 1\n                },\n                {\n                    \"source\": \"Hazel Brugger\",\n                    \"target\": \"Elon Musk\",\n                    \"value\": 2\n                },\n                {\n                    \"source\": \"Hazel Brugger\",\n                    \"target\": \"Ole\",\n                    \"value\": 9\n                },\n                {\n                    \"source\": \"Hazel Brugger\",\n                    \"target\": \"teresa bcker\",\n                    \"value\": 3\n                },\n                {\n                    \"source\": \"Hazel Brugger\",\n                    \"target\": \"erzaehlmirnix\",\n                    \"value\": 2\n                },\n                {\n                    \"source\": \"Hazel Brugger\",\n                    \"target\": \"Der Postillon\",\n                    \"value\": 4\n                },\n                {\n                    \"source\": \"Hazel Brugger\",\n                    \"target\": \"extra3\",\n                    \"value\": 14\n                },\n                {\n                    \"source\": \"Hazel Brugger\",\n                    \"target\": \"ZDF heute-show\",\n                    \"value\": 1\n                },\n                {\n                    \"source\": \"Hazel Brugger\",\n                    \"target\": \"Tobse\",\n                    \"value\": 1\n                },\n                {\n                    \"source\": \"Hazel Brugger\",\n                    \"target\": \"Schdegie.\",\n                    \"value\": 1\n                },\n                {\n                    \"source\": \"Volksverpetzer\",\n                    \"target\": \"Ole\",\n                    \"value\": 50\n                },\n                {\n                    \"source\": \"Volksverpetzer\",\n                    \"target\": \"teresa bcker\",\n                    \"value\": 129\n                },\n                {\n                    \"source\": \"Volksverpetzer\",\n                    \"target\": \"erzaehlmirnix\",\n                    \"value\": 10\n                },\n                {\n                    \"source\": \"Volksverpetzer\",\n                    \"target\": \"Der Postillon\",\n                    \"value\": 69\n                },\n                {\n                    \"source\": \"Volksverpetzer\",\n                    \"target\": \"extra3\",\n                    \"value\": 236\n                },\n                {\n                    \"source\": \"Volksverpetzer\",\n                    \"target\": \"ZDF heute-show\",\n                    \"value\": 6\n                },\n                {\n                    \"source\": \"Volksverpetzer\",\n                    \"target\": \"TheMinnieTheMouse\",\n                    \"value\": 2\n                },\n                {\n                    \"source\": \"Volksverpetzer\",\n                    \"target\": \"Tobse\",\n                    \"value\": 7\n                },\n                {\n                    \"source\": \"Volksverpetzer\",\n                    \"target\": \"Schdegie.\",\n                    \"value\": 6\n                },\n                {\n                    \"source\": \"Bill Gates\",\n                    \"target\": \"Elon Musk\",\n                    \"value\": 2\n                },\n                {\n                    \"source\": \"Bill Gates\",\n                    \"target\": \"Ole\",\n                    \"value\": 8\n                },\n                {\n                    \"source\": \"Bill Gates\",\n                    \"target\": \"teresa bcker\",\n                    \"value\": 13\n                },\n                {\n                    \"source\": \"Bill Gates\",\n                    \"target\": \"INA HOUT\",\n                    \"value\": 1\n                },\n                {\n                    \"source\": \"Bill Gates\",\n                    \"target\": \"Sven Stueven\",\n                    \"value\": 1\n                },\n                {\n                    \"source\": \"Bill Gates\",\n                    \"target\": \"extra3\",\n                    \"value\": 13\n                },\n                {\n                    \"source\": \"Bill Gates\",\n                    \"target\": \"TheMinnieTheMouse\",\n                    \"value\": 2\n                },\n                {\n                    \"source\": \"Bill Gates\",\n                    \"target\": \"Tobse\",\n                    \"value\": 2\n                },\n                {\n                    \"source\": \"Elon Musk\",\n                    \"target\": \"Ole\",\n                    \"value\": 14\n                },\n                {\n                    \"source\": \"Elon Musk\",\n                    \"target\": \"teresa bcker\",\n                    \"value\": 1\n                },\n                {\n                    \"source\": \"Elon Musk\",\n                    \"target\": \"extra3\",\n                    \"value\": 1\n                },\n                {\n                    \"source\": \"Elon Musk\",\n                    \"target\": \"Schdegie.\",\n                    \"value\": 1\n                },\n                {\n                    \"source\": \"ESL\",\n                    \"target\": \"Ole\",\n                    \"value\": 5\n                },\n                {\n                    \"source\": \"ESL\",\n                    \"target\": \"extra3\",\n                    \"value\": 1\n                },\n                {\n                    \"source\": \"ESL\",\n                    \"target\": \"Tobse\",\n                    \"value\": 4\n                },\n                {\n                    \"source\": \"ESL\",\n                    \"target\": \"Schdegie.\",\n                    \"value\": 4\n                },\n                {\n                    \"source\": \"Ole\",\n                    \"target\": \"teresa bcker\",\n                    \"value\": 30\n                },\n                {\n                    \"source\": \"Ole\",\n                    \"target\": \"INA HOUT\",\n                    \"value\": 4\n                },\n                {\n                    \"source\": \"Ole\",\n                    \"target\": \"erzaehlmirnix\",\n                    \"value\": 7\n                },\n                {\n                    \"source\": \"Ole\",\n                    \"target\": \"Sven Stueven\",\n                    \"value\": 5\n                },\n                {\n                    \"source\": \"Ole\",\n                    \"target\": \"Der Postillon\",\n                    \"value\": 39\n                },\n                {\n                    \"source\": \"Ole\",\n                    \"target\": \"extra3\",\n                    \"value\": 167\n                },\n                {\n                    \"source\": \"Ole\",\n                    \"target\": \"ZDF heute-show\",\n                    \"value\": 6\n                },\n                {\n                    \"source\": \"Ole\",\n                    \"target\": \"TheMinnieTheMouse\",\n                    \"value\": 11\n                },\n                {\n                    \"source\": \"Ole\",\n                    \"target\": \"Tobse\",\n                    \"value\": 20\n                },\n                {\n                    \"source\": \"Ole\",\n                    \"target\": \"Schdegie.\",\n                    \"value\": 69\n                },\n                {\n                    \"source\": \"Ole\",\n                    \"target\": \"L. Duy Pham\",\n                    \"value\": 3\n                },\n                {\n                    \"source\": \"teresa bcker\",\n                    \"target\": \"INA HOUT\",\n                    \"value\": 1\n                },\n                {\n                    \"source\": \"teresa bcker\",\n                    \"target\": \"erzaehlmirnix\",\n                    \"value\": 2\n                },\n                {\n                    \"source\": \"teresa bcker\",\n                    \"target\": \"Sven Stueven\",\n                    \"value\": 6\n                },\n                {\n                    \"source\": \"teresa bcker\",\n                    \"target\": \"Der Postillon\",\n                    \"value\": 29\n                },\n                {\n                    \"source\": \"teresa bcker\",\n                    \"target\": \"extra3\",\n                    \"value\": 332\n                },\n                {\n                    \"source\": \"teresa bcker\",\n                    \"target\": \"ZDF heute-show\",\n                    \"value\": 1\n                },\n                {\n                    \"source\": \"teresa bcker\",\n                    \"target\": \"TheMinnieTheMouse\",\n                    \"value\": 4\n                },\n                {\n                    \"source\": \"teresa bcker\",\n                    \"target\": \"Tobse\",\n                    \"value\": 3\n                },\n                {\n                    \"source\": \"teresa bcker\",\n                    \"target\": \"Schdegie.\",\n                    \"value\": 2\n                },\n                {\n                    \"source\": \"INA HOUT\",\n                    \"target\": \"extra3\",\n                    \"value\": 4\n                },\n                {\n                    \"source\": \"INA HOUT\",\n                    \"target\": \"TheMinnieTheMouse\",\n                    \"value\": 4\n                },\n                {\n                    \"source\": \"INA HOUT\",\n                    \"target\": \"Tobse\",\n                    \"value\": 1\n                },\n                {\n                    \"source\": \"erzaehlmirnix\",\n                    \"target\": \"Der Postillon\",\n                    \"value\": 4\n                },\n                {\n                    \"source\": \"erzaehlmirnix\",\n                    \"target\": \"extra3\",\n                    \"value\": 9\n                },\n                {\n                    \"source\": \"erzaehlmirnix\",\n                    \"target\": \"Tobse\",\n                    \"value\": 1\n                },\n                {\n                    \"source\": \"Sven Stueven\",\n                    \"target\": \"extra3\",\n                    \"value\": 3\n                },\n                {\n                    \"source\": \"Sven Stueven\",\n                    \"target\": \"Tobse\",\n                    \"value\": 1\n                },\n                {\n                    \"source\": \"Sven Stueven\",\n                    \"target\": \"Schdegie.\",\n                    \"value\": 1\n                },\n                {\n                    \"source\": \"Sven Stueven\",\n                    \"target\": \"L. Duy Pham\",\n                    \"value\": 1\n                },\n                {\n                    \"source\": \"Der Postillon\",\n                    \"target\": \"extra3\",\n                    \"value\": 93\n                },\n                {\n                    \"source\": \"Der Postillon\",\n                    \"target\": \"ZDF heute-show\",\n                    \"value\": 4\n                },\n                {\n                    \"source\": \"Der Postillon\",\n                    \"target\": \"TheMinnieTheMouse\",\n                    \"value\": 1\n                },\n                {\n                    \"source\": \"Der Postillon\",\n                    \"target\": \"Tobse\",\n                    \"value\": 4\n                },\n                {\n                    \"source\": \"Der Postillon\",\n                    \"target\": \"Schdegie.\",\n                    \"value\": 3\n                },\n                {\n                    \"source\": \"extra3\",\n                    \"target\": \"ZDF heute-show\",\n                    \"value\": 11\n                },\n                {\n                    \"source\": \"extra3\",\n                    \"target\": \"TheMinnieTheMouse\",\n                    \"value\": 10\n                },\n                {\n                    \"source\": \"extra3\",\n                    \"target\": \"Tobse\",\n                    \"value\": 16\n                },\n                {\n                    \"source\": \"extra3\",\n                    \"target\": \"Schdegie.\",\n                    \"value\": 21\n                },\n                {\n                    \"source\": \"extra3\",\n                    \"target\": \"L. Duy Pham\",\n                    \"value\": 1\n                },\n                {\n                    \"source\": \"TheMinnieTheMouse\",\n                    \"target\": \"Tobse\",\n                    \"value\": 2\n                },\n                {\n                    \"source\": \"Tobse\",\n                    \"target\": \"Schdegie.\",\n                    \"value\": 7\n                },\n                {\n                    \"source\": \"Tobse\",\n                    \"target\": \"L. Duy Pham\",\n                    \"value\": 2\n                },\n                {\n                    \"source\": \"Tobse\",\n                    \"target\": \"Joyce\",\n                    \"value\": 2\n                },\n                {\n                    \"source\": \"Schdegie.\",\n                    \"target\": \"L. Duy Pham\",\n                    \"value\": 2\n                },\n                {\n                    \"source\": \"Schdegie.\",\n                    \"target\": \"Joyce\",\n                    \"value\": 1\n                },\n                {\n                    \"source\": \"Let'sPlayBros\",\n                    \"target\": \"L. Duy Pham\",\n                    \"value\": 1\n                }\n            ],\n            \"tooltip\": \"{a} <br> {b} : {c}\"\n        }\n    ],\n    \"legend\": [\n        {\n            \"data\": [],\n            \"selected\": {}\n        }\n    ],\n    \"tooltip\": {\n        \"show\": true,\n        \"trigger\": \"item\",\n        \"triggerOn\": \"mousemove|click\",\n        \"axisPointer\": {\n            \"type\": \"line\"\n        },\n        \"showContent\": true,\n        \"alwaysShowContent\": false,\n        \"showDelay\": 0,\n        \"hideDelay\": 100,\n        \"textStyle\": {\n            \"fontSize\": 14\n        },\n        \"borderWidth\": 0,\n        \"padding\": 5\n    }\n};\n                chart_ff5aa81d3ab8499a8358234f1637d974.setOption(option_ff5aa81d3ab8499a8358234f1637d974);\n        });\n    </script>\n"
     },
     "metadata": {},
     "execution_count": 48
    }
   ],
   "source": [
    "# Create a figure object and add nodes and edges (called links) into the figure format layout, set labels for tooltip\n",
    "fig = Graph()\n",
    "fig.add(\n",
    "    \"Tobis Twitter Network\",\n",
    "    nodes,\n",
    "    links,\n",
    "    tooltip_opts = \"{a} <br> {b} : {c}\",\n",
    "    repulsion=1,\n",
    "    gravity= 0.5,\n",
    "    linestyle_opts = opts.LineStyleOpts(width=0.1, curve=0.1, color=\"source\")\n",
    ")\n",
    "fig.height = \"900px\"\n",
    "fig.width = \"900px\"\n",
    "fig.render_notebook()"
   ]
  },
  {
   "source": [
    "## Analysis\n",
    "But what can the Visualization tell us? Each link represents overlapping friends between two friends of Tobi. Therefore each link represents the homogeneity of the interests of those two friends. So, the centrallity_degree of a node says how homogeneous the interests of the friend are compared to the rest of Tobi's friends. Therefore this Network shows us which accounts from Tobis Twitter friendslist have the most homogeneous interests compared to Tobi. So that can tell us which friend shares the relative most content which Tobi agrees on, but not which friend influences Tobi the most.\n",
    "\n",
    "---\n",
    "## 3. Alternative Approach\n",
    "To answer the question which friend of Tobi influences his Twitter Feed the most we must try another approach. This approach is to use a simple directed network. So here each edge represents a directed relationship between a 1st-grade friend of Tobi and a 2nd-grade friend of Tobi. E.g. Tobi has two friends (follows two accounts): Günni and Peter. Günni has two more friends, Sarah and Eli. Peter has also a friend: Erik. So there would be the edges: `Günni --> Sarah`, `Günni --> Eli` and `Peter --> Erik`. The edge list is saved to the file `my-edgy-friend-network.edges` but with just the account IDs since it would take to long to crawl Twitter to get the clear names of 20 000 people:"
   ],
   "cell_type": "markdown",
   "metadata": {}
  },
  {
   "cell_type": "code",
   "execution_count": 49,
   "metadata": {},
   "outputs": [],
   "source": [
    "f = open(\"my-edgy-friend-network.edges\", \"w\")\n",
    "f.write(','.join(['User ID', 'User ID']) + '\\n')\n",
    "\n",
    "for f_id in secondGradeFriends:\n",
    "    for f_f_id in secondGradeFriends[f_id]:\n",
    "        f.write(','.join([str(f_id), str(f_f_id)]) + '\\n')\n",
    "\n",
    "f.close()"
   ]
  },
  {
   "source": [
    "_This can be executed with the saved edge-files from the repository without running the above code._\n",
    "\n",
    "Then we can import this data into a dataFrame, create an edgelist, give it into the networkx library to create a nx.Graph object and calculate the centrality for each node:"
   ],
   "cell_type": "markdown",
   "metadata": {}
  },
  {
   "cell_type": "code",
   "execution_count": 50,
   "metadata": {},
   "outputs": [],
   "source": [
    "df_alt = pd.read_csv(\"my-edgy-friend-network.edges\", names = [\"node1\", \"node2\", \"value\"])\n",
    "df_alt.drop(index=0, inplace=True)\n",
    "df_alt = df_alt.fillna(1)"
   ]
  },
  {
   "cell_type": "code",
   "execution_count": 51,
   "metadata": {},
   "outputs": [],
   "source": [
    "edgelist_alt = create_edgelist(df_alt)"
   ]
  },
  {
   "cell_type": "code",
   "execution_count": 52,
   "metadata": {},
   "outputs": [],
   "source": [
    "G_alt = nx.Graph()\n",
    "G_alt.add_edges_from(edgelist_alt)"
   ]
  },
  {
   "source": [
    "The second network is a `directed` Singlemode network this time, which is `not weighted`."
   ],
   "cell_type": "markdown",
   "metadata": {}
  },
  {
   "source": [
    "Since we want to find out who influences Tobi the most we want to find who knows the most influential people in Tobi's network. This means we want to find out who has the most influential friends in the second-degree friend network. To achieve this we calculate again the `betweenness degree scores` for all persons in Tobi's network."
   ],
   "cell_type": "markdown",
   "metadata": {}
  },
  {
   "cell_type": "code",
   "execution_count": 53,
   "metadata": {},
   "outputs": [],
   "source": [
    "centrality_alt = nx.degree_centrality(G_alt)"
   ]
  },
  {
   "source": [
    "Now we have the Top 20 Nodes and can crawl Twitter to get the clear names:"
   ],
   "cell_type": "markdown",
   "metadata": {}
  },
  {
   "cell_type": "code",
   "execution_count": 54,
   "metadata": {},
   "outputs": [
    {
     "output_type": "execute_result",
     "data": {
      "text/plain": [
       "['Barack Obama',\n",
       " 'extra3',\n",
       " 'teresa bcker',\n",
       " 'Berlin4Future #BidenForParis',\n",
       " 'Luisa Neubauer',\n",
       " 'Mai Thi Nguyen-Kim',\n",
       " 'Ole',\n",
       " 'Ende Gelnde',\n",
       " 'Scientists for Future',\n",
       " 'Fridays For Future Germany',\n",
       " 'Tommi Schmitt',\n",
       " 'Sven Stueven',\n",
       " 'DevelopersForFuture  #WeVsClimateCrisis',\n",
       " 'Volksverpetzer',\n",
       " 'Juju',\n",
       " 'Schdegie.',\n",
       " 'Rezo',\n",
       " 'ESL',\n",
       " 'Karl Lauterbach',\n",
       " 'Bill Gates']"
      ]
     },
     "metadata": {},
     "execution_count": 54
    }
   ],
   "source": [
    "centrality_alt_top20_ids = sorted(centrality_alt, key=centrality_alt.get, reverse=True)[:20]\n",
    "top_20 = []\n",
    "for topID in centrality_alt_top20_ids:\n",
    "    friend = api.get_user(topID)\n",
    "    f_name = ''.join(s for s in friend.name if s in string.printable) # Cleanup non-printable chars\n",
    "    top_20.append(f_name)\n",
    "\n",
    "top_20"
   ]
  },
  {
   "source": [
    "So these are the 20 accounts which influence Tobi's Twitter contacts the most."
   ],
   "cell_type": "markdown",
   "metadata": {}
  }
 ]
}